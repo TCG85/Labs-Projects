{
 "cells": [
  {
   "cell_type": "code",
   "execution_count": 24,
   "metadata": {},
   "outputs": [],
   "source": [
    "import requests\n",
    "from lxml import html\n",
    "\n",
    "pageContent=requests.get(\n",
    "     'https://www.expedia.de/Hotel-Search?adults=2&destination=Berlin&endDate=2020-02-06&rooms=1&&startDate=2020-02-05'\n",
    ")\n",
    "tree = html.fromstring(pageContent.content)"
   ]
  },
  {
   "cell_type": "code",
   "execution_count": 28,
   "metadata": {},
   "outputs": [],
   "source": [
    "hotel_name_1=tree.xpath(\n",
    "    '//*[@id=\"app\"]/div[1]/div/div/div/div[1]/main/div/div/div[2]/section[2]/ol/li[1]/div/div/div/div[1]/h3')\n",
    "#silverWinners=tree.xpath(\n",
    "    #'//*[@id=\"mw-content-text\"]/table/tr/td[3]/a[1]/text()')\n",
    "#bronzeWinner we need rows where there's no rowspan - note XPath\n",
    "#bronzeWinners=tree.xpath(\n",
    "#'//*[@id=\"mw-content-text\"]/table/tr/td[not(@rowspan=2)]/a[1]/text()')\n",
    "\n",
    "#medalWinners=goldWinners+silverWinners+bronzeWinners"
   ]
  },
  {
   "cell_type": "code",
   "execution_count": 29,
   "metadata": {},
   "outputs": [],
   "source": [
    "#medalWinners=goldWinners+silverWinners+bronzeWinners\n",
    "\n",
    "medalTotals={}\n",
    "for name in hotel_name_1:\n",
    "    if hotel_name_1.has_key(name):\n",
    "        hotel_name_1[name]=medalTotals[name]+1\n",
    "    else:\n",
    "        medalTotals[name]=1"
   ]
  },
  {
   "cell_type": "code",
   "execution_count": 33,
   "metadata": {},
   "outputs": [
    {
     "data": {
      "text/plain": [
       "{}"
      ]
     },
     "execution_count": 33,
     "metadata": {},
     "output_type": "execute_result"
    }
   ],
   "source": [
    "for result in sorted(medalTotals.items(), key=lambda x:x[1],reverse=True):\n",
    "      print('%s:%s' % result)\n",
    "    \n",
    "medalTotals"
   ]
  },
  {
   "cell_type": "code",
   "execution_count": 31,
   "metadata": {},
   "outputs": [
    {
     "data": {
      "text/plain": [
       "[]"
      ]
     },
     "execution_count": 31,
     "metadata": {},
     "output_type": "execute_result"
    }
   ],
   "source": [
    "tree.xpath('/html/body/div[2]/div[1]/div/div/div/div[1]/main/div/div/div[2]/section[2]/ol/li[1]/div/div/div/div[1]/h3')"
   ]
  },
  {
   "cell_type": "code",
   "execution_count": 32,
   "metadata": {},
   "outputs": [
    {
     "data": {
      "text/plain": [
       "[]"
      ]
     },
     "execution_count": 32,
     "metadata": {},
     "output_type": "execute_result"
    }
   ],
   "source": [
    "hotel_name_1"
   ]
  },
  {
   "cell_type": "code",
   "execution_count": 41,
   "metadata": {},
   "outputs": [
    {
     "ename": "SyntaxError",
     "evalue": "invalid token (<ipython-input-41-447ab3cfec1f>, line 108)",
     "output_type": "error",
     "traceback": [
      "\u001b[0;36m  File \u001b[0;32m\"<ipython-input-41-447ab3cfec1f>\"\u001b[0;36m, line \u001b[0;32m108\u001b[0m\n\u001b[0;31m    parse(mia,txl,04/02/2020)\u001b[0m\n\u001b[0m                   ^\u001b[0m\n\u001b[0;31mSyntaxError\u001b[0m\u001b[0;31m:\u001b[0m invalid token\n"
     ]
    }
   ],
   "source": [
    "import json\n",
    "import requests\n",
    "from lxml import html\n",
    "from collections import OrderedDict\n",
    "import argparse\n",
    "\n",
    "def parse(source,destination,date):\n",
    "\tfor i in range(5):\n",
    "\t\ttry:\n",
    "\t\t\turl = \"https://www.expedia.com/Flights-Search?trip=oneway&leg1=from:{0},to:{1},departure:{2}TANYT&passengers=adults:1,children:0,seniors:0,infantinlap:Y&options=cabinclass%3Aeconomy&mode=search&origref=www.expedia.com\".format(source,destination,date)\n",
    "\t\t\theaders = {'User-Agent': 'Mozilla/5.0 (Windows NT 10.0; Win64; x64) AppleWebKit/537.36 (KHTML, like Gecko) Chrome/70.0.3538.77 Safari/537.36'}\n",
    "\t\t\tresponse = requests.get(url, headers=headers, verify=False)\n",
    "\t\t\tparser = html.fromstring(response.text)\n",
    "\t\t\tjson_data_xpath = parser.xpath(\"//script[@id='cachedResultsJson']//text()\")\n",
    "\t\t\traw_json =json.loads(json_data_xpath[0] if json_data_xpath else '')\n",
    "\t\t\tflight_data = json.loads(raw_json[\"content\"])\n",
    "\n",
    "\t\t\tflight_info  = OrderedDict() \n",
    "\t\t\tlists=[]\n",
    "\n",
    "\t\t\tfor i in flight_data['legs'].keys():\n",
    "\t\t\t\ttotal_distance =  flight_data['legs'][i].get(\"formattedDistance\",'')\n",
    "\t\t\t\texact_price = flight_data['legs'][i].get('price',{}).get('totalPriceAsDecimal','')\n",
    "\n",
    "\t\t\t\tdeparture_location_airport = flight_data['legs'][i].get('departureLocation',{}).get('airportLongName','')\n",
    "\t\t\t\tdeparture_location_city = flight_data['legs'][i].get('departureLocation',{}).get('airportCity','')\n",
    "\t\t\t\tdeparture_location_airport_code = flight_data['legs'][i].get('departureLocation',{}).get('airportCode','')\n",
    "\t\t\t\t\n",
    "\t\t\t\tarrival_location_airport = flight_data['legs'][i].get('arrivalLocation',{}).get('airportLongName','')\n",
    "\t\t\t\tarrival_location_airport_code = flight_data['legs'][i].get('arrivalLocation',{}).get('airportCode','')\n",
    "\t\t\t\tarrival_location_city = flight_data['legs'][i].get('arrivalLocation',{}).get('airportCity','')\n",
    "\t\t\t\tairline_name = flight_data['legs'][i].get('carrierSummary',{}).get('airlineName','')\n",
    "\t\t\t\t\n",
    "\t\t\t\tno_of_stops = flight_data['legs'][i].get(\"stops\",\"\")\n",
    "\t\t\t\tflight_duration = flight_data['legs'][i].get('duration',{})\n",
    "\t\t\t\tflight_hour = flight_duration.get('hours','')\n",
    "\t\t\t\tflight_minutes = flight_duration.get('minutes','')\n",
    "\t\t\t\tflight_days = flight_duration.get('numOfDays','')\n",
    "\n",
    "\t\t\t\tif no_of_stops==0:\n",
    "\t\t\t\t\tstop = \"Nonstop\"\n",
    "\t\t\t\telse:\n",
    "\t\t\t\t\tstop = str(no_of_stops)+' Stop'\n",
    "\n",
    "\t\t\t\ttotal_flight_duration = \"{0} days {1} hours {2} minutes\".format(flight_days,flight_hour,flight_minutes)\n",
    "\t\t\t\tdeparture = departure_location_airport+\", \"+departure_location_city\n",
    "\t\t\t\tarrival = arrival_location_airport+\", \"+arrival_location_city\n",
    "\t\t\t\tcarrier = flight_data['legs'][i].get('timeline',[])[0].get('carrier',{})\n",
    "\t\t\t\tplane = carrier.get('plane','')\n",
    "\t\t\t\tplane_code = carrier.get('planeCode','')\n",
    "\t\t\t\tformatted_price = \"{0:.2f}\".format(exact_price)\n",
    "\n",
    "\t\t\t\tif not airline_name:\n",
    "\t\t\t\t\tairline_name = carrier.get('operatedBy','')\n",
    "\t\t\t\t\n",
    "\t\t\t\ttimings = []\n",
    "\t\t\t\tfor timeline in  flight_data['legs'][i].get('timeline',{}):\n",
    "\t\t\t\t\tif 'departureAirport' in timeline.keys():\n",
    "\t\t\t\t\t\tdeparture_airport = timeline['departureAirport'].get('longName','')\n",
    "\t\t\t\t\t\tdeparture_time = timeline['departureTime'].get('time','')\n",
    "\t\t\t\t\t\tarrival_airport = timeline.get('arrivalAirport',{}).get('longName','')\n",
    "\t\t\t\t\t\tarrival_time = timeline.get('arrivalTime',{}).get('time','')\n",
    "\t\t\t\t\t\tflight_timing = {\n",
    "\t\t\t\t\t\t\t\t\t\t\t'departure_airport':departure_airport,\n",
    "\t\t\t\t\t\t\t\t\t\t\t'departure_time':departure_time,\n",
    "\t\t\t\t\t\t\t\t\t\t\t'arrival_airport':arrival_airport,\n",
    "\t\t\t\t\t\t\t\t\t\t\t'arrival_time':arrival_time\n",
    "\t\t\t\t\t\t}\n",
    "\t\t\t\t\t\ttimings.append(flight_timing)\n",
    "\n",
    "\t\t\t\tflight_info={'stops':stop,\n",
    "\t\t\t\t\t'ticket price':formatted_price,\n",
    "\t\t\t\t\t'departure':departure,\n",
    "\t\t\t\t\t'arrival':arrival,\n",
    "\t\t\t\t\t'flight duration':total_flight_duration,\n",
    "\t\t\t\t\t'airline':airline_name,\n",
    "\t\t\t\t\t'plane':plane,\n",
    "\t\t\t\t\t'timings':timings,\n",
    "\t\t\t\t\t'plane code':plane_code\n",
    "\t\t\t\t}\n",
    "\t\t\t\tlists.append(flight_info)\n",
    "\t\t\tsortedlist = sorted(lists, key=lambda k: k['ticket price'],reverse=False)\n",
    "\t\t\treturn sortedlist\n",
    "\t\t\n",
    "\t\texcept ValueError:\n",
    "\t\t\tprint (\"Rerying...\")\n",
    "\t\t\t\n",
    "\t\treturn {\"error\":\"failed to process the page\",}\n",
    "\n",
    "   \n",
    "    \n",
    "if __name__==\"__main__\":\n",
    "\targparser = argparse.ArgumentParser()\n",
    "\targparser.add_argument('source',help = 'Source airport code')\n",
    "\targparser.add_argument('destination',help = 'Destination airport code')\n",
    "\targparser.add_argument('date',help = 'MM/DD/YYYY')\n",
    "\n",
    "\targs = argparser.parse_args()\n",
    "\tsource = args.source\n",
    "\tdestination = args.destination\n",
    "\tdate = args.date\n",
    "\tprint (\"Fetching flight details\")\n",
    "\tscraped_data = parse(source,destination,date)\n",
    "\tprint (\"Writing data to output file\")\n",
    "\twith open('%s-%s-flight-results.json'%(source,destination),'w') as fp:\n",
    "\t \tjson.dump(scraped_data,fp,indent = 4)\n",
    "        \n",
    "parse(mia,txl,04/02/2020) "
   ]
  }
 ],
 "metadata": {
  "kernelspec": {
   "display_name": "Python 3",
   "language": "python",
   "name": "python3"
  },
  "language_info": {
   "codemirror_mode": {
    "name": "ipython",
    "version": 3
   },
   "file_extension": ".py",
   "mimetype": "text/x-python",
   "name": "python",
   "nbconvert_exporter": "python",
   "pygments_lexer": "ipython3",
   "version": "3.7.5"
  }
 },
 "nbformat": 4,
 "nbformat_minor": 2
}
