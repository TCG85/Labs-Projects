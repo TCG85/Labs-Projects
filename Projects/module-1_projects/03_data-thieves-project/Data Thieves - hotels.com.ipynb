{
 "cells": [
  {
   "cell_type": "code",
   "execution_count": 9,
   "metadata": {},
   "outputs": [
    {
     "ename": "OSError",
     "evalue": "Can not find Xvfb. Please install it and try again.",
     "output_type": "error",
     "traceback": [
      "\u001b[0;31m---------------------------------------------------------------------------\u001b[0m",
      "\u001b[0;31mOSError\u001b[0m                                   Traceback (most recent call last)",
      "\u001b[0;32m<ipython-input-9-0e42043c2a72>\u001b[0m in \u001b[0;36m<module>\u001b[0;34m\u001b[0m\n\u001b[1;32m     73\u001b[0m         \u001b[0mpprint\u001b[0m\u001b[0;34m(\u001b[0m\u001b[0mitem\u001b[0m\u001b[0;34m)\u001b[0m\u001b[0;34m\u001b[0m\u001b[0;34m\u001b[0m\u001b[0m\n\u001b[1;32m     74\u001b[0m \u001b[0;32mif\u001b[0m \u001b[0m__name__\u001b[0m \u001b[0;34m==\u001b[0m \u001b[0;34m'__main__'\u001b[0m\u001b[0;34m:\u001b[0m\u001b[0;34m\u001b[0m\u001b[0;34m\u001b[0m\u001b[0m\n\u001b[0;32m---> 75\u001b[0;31m     \u001b[0mvdisplay\u001b[0m \u001b[0;34m=\u001b[0m \u001b[0mXvfb\u001b[0m\u001b[0;34m(\u001b[0m\u001b[0;34m)\u001b[0m\u001b[0;34m\u001b[0m\u001b[0;34m\u001b[0m\u001b[0m\n\u001b[0m\u001b[1;32m     76\u001b[0m     \u001b[0mvdisplay\u001b[0m\u001b[0;34m.\u001b[0m\u001b[0mstart\u001b[0m\u001b[0;34m(\u001b[0m\u001b[0;34m)\u001b[0m\u001b[0;34m\u001b[0m\u001b[0;34m\u001b[0m\u001b[0m\n\u001b[1;32m     77\u001b[0m     \u001b[0mparse\u001b[0m\u001b[0;34m(\u001b[0m\u001b[0;34m'http://www.hotels.com'\u001b[0m\u001b[0;34m)\u001b[0m\u001b[0;34m\u001b[0m\u001b[0;34m\u001b[0m\u001b[0m\n",
      "\u001b[0;32m~/opt/anaconda3/envs/code_red/lib/python3.7/site-packages/xvfbwrapper.py\u001b[0m in \u001b[0;36m__init__\u001b[0;34m(self, width, height, colordepth, tempdir, **kwargs)\u001b[0m\n\u001b[1;32m     39\u001b[0m         \u001b[0;32mif\u001b[0m \u001b[0;32mnot\u001b[0m \u001b[0mself\u001b[0m\u001b[0;34m.\u001b[0m\u001b[0mxvfb_exists\u001b[0m\u001b[0;34m(\u001b[0m\u001b[0;34m)\u001b[0m\u001b[0;34m:\u001b[0m\u001b[0;34m\u001b[0m\u001b[0;34m\u001b[0m\u001b[0m\n\u001b[1;32m     40\u001b[0m             \u001b[0mmsg\u001b[0m \u001b[0;34m=\u001b[0m \u001b[0;34m'Can not find Xvfb. Please install it and try again.'\u001b[0m\u001b[0;34m\u001b[0m\u001b[0;34m\u001b[0m\u001b[0m\n\u001b[0;32m---> 41\u001b[0;31m             \u001b[0;32mraise\u001b[0m \u001b[0mEnvironmentError\u001b[0m\u001b[0;34m(\u001b[0m\u001b[0mmsg\u001b[0m\u001b[0;34m)\u001b[0m\u001b[0;34m\u001b[0m\u001b[0;34m\u001b[0m\u001b[0m\n\u001b[0m\u001b[1;32m     42\u001b[0m \u001b[0;34m\u001b[0m\u001b[0m\n\u001b[1;32m     43\u001b[0m         self.extra_xvfb_args = ['-screen', '0', '{}x{}x{}'.format(\n",
      "\u001b[0;31mOSError\u001b[0m: Can not find Xvfb. Please install it and try again."
     ]
    }
   ],
   "source": [
    "#!/usr/bin/env python\n",
    "from re import findall,sub\n",
    "from lxml import html\n",
    "from time import sleep\n",
    "from selenium import webdriver\n",
    "from pprint import pprint\n",
    "#from xvfbwrapper import Xvfb\n",
    "\n",
    "def parse(url):\n",
    "    searchKey = \"Las Vegas\" # Change this to your city \n",
    "    checkInDate = '27/08/2016' #Format %d/%m/%Y\n",
    "    checkOutDate = '29/08/2016' #Format %d/%m/%Y\n",
    "    response = webdriver.Firefox()\n",
    "    response.get(url)\n",
    "    searchKeyElement = response.find_elements_by_xpath('//input[contains(@id,\"destination\")]')\n",
    "    checkInElement = response.find_elements_by_xpath('//input[contains(@class,\"check-in\")]')\n",
    "    checkOutElement = response.find_elements_by_xpath('//input[contains(@class,\"check-out\")]')\n",
    "    submitButton = response.find_elements_by_xpath('//button[@type=\"submit\"]')\n",
    "    if searchKeyElement and checkInElement and checkOutElement:\n",
    "        searchKeyElement[0].send_keys(searchKey)\n",
    "        checkInElement[0].clear()\n",
    "        checkInElement[0].send_keys(checkInDate)\n",
    "        checkOutElement[0].clear()\n",
    "        checkOutElement[0].send_keys(checkOutDate)\n",
    "        randomClick = response.find_elements_by_xpath('//h1')\n",
    "        if randomClick:\n",
    "            randomClick[0].click()\n",
    "        submitButton[0].click()\n",
    "        sleep(15)\n",
    "        dropDownButton = response.find_elements_by_xpath('//fieldset[contains(@id,\"dropdown\")]')\n",
    "        if dropDownButton:\n",
    "            dropDownButton[0].click()\n",
    "            priceLowtoHigh = response.find_elements_by_xpath('//li[contains(text(),\"low to high\")]')\n",
    "            if priceLowtoHigh:\n",
    "                priceLowtoHigh[0].click()\n",
    "                sleep(10)\n",
    "\n",
    "    parser = html.fromstring(response.page_source,response.current_url)\n",
    "    hotels = parser.xpath('//div[@class=\"hotel-wrap\"]')\n",
    "    for hotel in hotels[:5]: #Replace 5 with 1 to just get the cheapest hotel\n",
    "        hotelName = hotel.xpath('.//h3/a')\n",
    "        hotelName = hotelName[0].text_content() if hotelName else None\n",
    "        price = hotel.xpath('.//div[@class=\"price\"]/a//ins')\n",
    "        price = price[0].text_content().replace(\",\",\"\").strip() if price else None\n",
    "        if price==None:\n",
    "            price = hotel.xpath('.//div[@class=\"price\"]/a')\n",
    "            price = price[0].text_content().replace(\",\",\"\").strip() if price else None\n",
    "        price = findall('([\\d\\.]+)',price) if price else None\n",
    "        price = price[0] if price else None\n",
    "        rating = hotel.xpath('.//div[@class=\"star-rating\"]/span/@data-star-rating')\n",
    "        rating = rating[0] if rating else None\n",
    "        address = hotel.xpath('.//span[contains(@class,\"locality\")]')\n",
    "        address = \"\".join([x.text_content() for x in address]) if address else None\n",
    "        locality = hotel.xpath('.//span[contains(@class,\"locality\")]')\n",
    "        locality = locality[0].text_content().replace(\",\",\"\").strip() if locality else None\n",
    "        region = hotel.xpath('.//span[contains(@class,\"locality\")]')\n",
    "        region = region[0].text_content().replace(\",\",\"\").strip() if region else None\n",
    "        postalCode = hotel.xpath('.//span[contains(@class,\"postal-code\")]')\n",
    "        postalCode = postalCode[0].text_content().replace(\",\",\"\").strip() if postalCode else None\n",
    "        countryName = hotel.xpath('.//span[contains(@class,\"country-name\")]')\n",
    "        countryName = countryName[0].text_content().replace(\",\",\"\").strip() if countryName else None\n",
    "\n",
    "        item = {\n",
    "                    \"hotelName\":hotelName,\n",
    "                    \"price\":price,\n",
    "                    \"rating\":rating,\n",
    "                    \"address\":address,\n",
    "                    \"locality\":locality,\n",
    "                    \"region\":region,\n",
    "                    \"postalCode\":postalCode,\n",
    "                    \"countryName\":countryName,\n",
    "        }\n",
    "        pprint(item)\n",
    "if __name__ == '__main__':\n",
    "    vdisplay = Xvfb()\n",
    "    vdisplay.start()\n",
    "    parse('http://www.hotels.com')\n",
    "    vdisplay.stop()"
   ]
  },
  {
   "cell_type": "code",
   "execution_count": null,
   "metadata": {},
   "outputs": [],
   "source": []
  },
  {
   "cell_type": "code",
   "execution_count": null,
   "metadata": {},
   "outputs": [],
   "source": []
  }
 ],
 "metadata": {
  "kernelspec": {
   "display_name": "Python 3",
   "language": "python",
   "name": "python3"
  },
  "language_info": {
   "codemirror_mode": {
    "name": "ipython",
    "version": 3
   },
   "file_extension": ".py",
   "mimetype": "text/x-python",
   "name": "python",
   "nbconvert_exporter": "python",
   "pygments_lexer": "ipython3",
   "version": "3.7.5"
  }
 },
 "nbformat": 4,
 "nbformat_minor": 2
}
