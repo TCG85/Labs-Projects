{
 "cells": [
  {
   "cell_type": "markdown",
   "metadata": {},
   "source": [
    "![IronHack Logo](https://s3-eu-west-1.amazonaws.com/ih-materials/uploads/upload_d5c5793015fec3be28a63c4fa3dd4d55.png)\n",
    "\n",
    "# Project: Data Cleaning and Manipulation with Pandas\n",
    "\n",
    "## Overview\n",
    "\n",
    "The goal of this project is to combine everything you have learned about data wrangling, cleaning, and manipulation with Pandas so you can see how it all works together. For this project, you will start with this messy data set [Shark Attack](https://www.kaggle.com/teajay/global-shark-attacks/version/1). You will need to import it, use your data wrangling skills to clean it up, prepare it to be analyzed, and then export it as a clean CSV data file.\n",
    "\n",
    "**You will be working individually for this project**, but we'll be guiding you along the process and helping you as you go. Show us what you've got!\n",
    "\n",
    "---\n",
    "\n",
    "## Technical Requirements\n",
    "\n",
    "The technical requirements for this project are as follows:\n",
    "\n",
    "* The dataset that we provide you is a significantly messy data set. Apply the different cleaning and manipulation techniques you have learned.\n",
    "* Import the data using Pandas.\n",
    "* Examine the data for potential issues.\n",
    "* Use at least 8 of the cleaning and manipulation methods you have learned on the data.\n",
    "* Produce a Jupyter Notebook that shows the steps you took and the code you used to clean and transform your data set.\n",
    "* Export a clean CSV version of your data using Pandas.\n",
    "\n",
    "## Necessary Deliverables\n",
    "\n",
    "The following deliverables should be pushed to your Github repo for this chapter.\n",
    "\n",
    "* **A cleaned CSV data file** containing the results of your data wrangling work.\n",
    "* **A Jupyter Notebook (data-wrangling.ipynb)** containing all Python code and commands used in the importing, cleaning, manipulation, and exporting of your data set.\n",
    "* **A ``README.md`` file** containing a detailed explanation of the process followed in the importing, cleaning, manipulation, and exporting of your data as well as your results, obstacles encountered, and lessons learned.\n",
    "\n",
    "## Suggested Ways to Get Started\n",
    "\n",
    "* **Examine the data and try to understand what the fields mean** before diving into data cleaning and manipulation methods.\n",
    "* **Break the project down into different steps** - use the topics covered in the lessons to form a check list, add anything else you can think of that may be wrong with your data set, and then work through the check list.\n",
    "* **Use the tools in your tool kit** - your knowledge of Python, data structures, Pandas, and data wrangling.\n",
    "* **Work through the lessons in class** & ask questions when you need to! Think about adding relevant code to your project each night, instead of, you know... _procrastinating_.\n",
    "* **Commit early, commit often**, don’t be afraid of doing something incorrectly because you can always roll back to a previous version.\n",
    "* **Consult documentation and resources provided** to better understand the tools you are using and how to accomplish what you want.\n",
    "\n",
    "## Useful Resources\n",
    "\n",
    "* [Pandas Documentation](https://pandas.pydata.org/pandas-docs/stable/)\n",
    "* [Pandas Tutorials](https://pandas.pydata.org/pandas-docs/stable/tutorials.html)\n",
    "* [StackOverflow Pandas Questions](https://stackoverflow.com/questions/tagged/pandas)\n",
    "* [Awesome Public Data Sets](https://github.com/awesomedata/awesome-public-datasets)\n",
    "* [Kaggle Data Sets](https://www.kaggle.com/datasets)\n"
   ]
  }
 ],
 "metadata": {
  "kernelspec": {
   "display_name": "Python 3",
   "language": "python",
   "name": "python3"
  },
  "language_info": {
   "codemirror_mode": {
    "name": "ipython",
    "version": 3
   },
   "file_extension": ".py",
   "mimetype": "text/x-python",
   "name": "python",
   "nbconvert_exporter": "python",
   "pygments_lexer": "ipython3",
   "version": "3.7.5"
  }
 },
 "nbformat": 4,
 "nbformat_minor": 2
}
