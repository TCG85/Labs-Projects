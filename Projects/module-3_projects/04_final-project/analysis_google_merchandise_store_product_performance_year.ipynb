{
 "cells": [
  {
   "cell_type": "markdown",
   "metadata": {},
   "source": [
    "## Analysis of Google Merchandise Store - Product performance (Year)\n",
    "\n",
    " - What are customers buying?\n",
    " - How does the revenue develop over time?\n",
    " - How does the revenue per Alphabet/Google employee change over the years?\n",
    "\n"
   ]
  },
  {
   "cell_type": "markdown",
   "metadata": {},
   "source": [
    "**Import libraries**"
   ]
  },
  {
   "cell_type": "code",
   "execution_count": 1,
   "metadata": {},
   "outputs": [],
   "source": [
    "import pandas as pd # Pandas for data manipulation and analysis\n",
    "import matplotlib.pyplot as plt # Matplotlib for drawing plots in Python\n",
    "import seaborn as sns # Seaborn is a Python data visualization library based on matplotlib"
   ]
  },
  {
   "cell_type": "markdown",
   "metadata": {},
   "source": [
    "**Read *csv**\n",
    "\n",
    "Downloaded from:\n",
    "\n",
    "https://analytics.google.com/analytics/web/?utm_source=demoaccount&utm_medium=demoaccount&utm_campaign=demoaccount#/report/conversions-ecommerce-product-performance/a54516992w87479473p92320289/_u.date00=20141001&_u.date01=20200229&_.advseg=&_.useg=&_.sectionId=&explorer-table.secSegmentId=analytics.year&explorer-table.plotKeys=%5B%5D&explorer-table.rowStart=0&explorer-table.rowCount=5000/"
   ]
  },
  {
   "cell_type": "code",
   "execution_count": 2,
   "metadata": {},
   "outputs": [],
   "source": [
    "df=pd.read_csv('Product Performance 20141001-20200229.csv', skiprows=5, skipfooter=1982, engine='python')"
   ]
  },
  {
   "cell_type": "markdown",
   "metadata": {},
   "source": [
    "**Show number of lines/columns of data frame**"
   ]
  },
  {
   "cell_type": "code",
   "execution_count": 3,
   "metadata": {},
   "outputs": [
    {
     "data": {
      "text/plain": [
       "(3153, 10)"
      ]
     },
     "execution_count": 3,
     "metadata": {},
     "output_type": "execute_result"
    }
   ],
   "source": [
    "df.shape"
   ]
  },
  {
   "cell_type": "markdown",
   "metadata": {},
   "source": [
    "**Show head and tail**"
   ]
  },
  {
   "cell_type": "code",
   "execution_count": 4,
   "metadata": {},
   "outputs": [
    {
     "data": {
      "text/html": [
       "<div>\n",
       "<style scoped>\n",
       "    .dataframe tbody tr th:only-of-type {\n",
       "        vertical-align: middle;\n",
       "    }\n",
       "\n",
       "    .dataframe tbody tr th {\n",
       "        vertical-align: top;\n",
       "    }\n",
       "\n",
       "    .dataframe thead th {\n",
       "        text-align: right;\n",
       "    }\n",
       "</style>\n",
       "<table border=\"1\" class=\"dataframe\">\n",
       "  <thead>\n",
       "    <tr style=\"text-align: right;\">\n",
       "      <th></th>\n",
       "      <th>Product</th>\n",
       "      <th>Year</th>\n",
       "      <th>Product Revenue</th>\n",
       "      <th>Unique Purchases</th>\n",
       "      <th>Quantity</th>\n",
       "      <th>Avg. Price</th>\n",
       "      <th>Avg. QTY</th>\n",
       "      <th>Product Refund Amount</th>\n",
       "      <th>Cart-to-Detail Rate</th>\n",
       "      <th>Buy-to-Detail Rate</th>\n",
       "    </tr>\n",
       "  </thead>\n",
       "  <tbody>\n",
       "    <tr>\n",
       "      <td>0</td>\n",
       "      <td>Nest® Learning Thermostat 3rd Gen-USA - Stainl...</td>\n",
       "      <td>2017</td>\n",
       "      <td>$684,000.19</td>\n",
       "      <td>3,511</td>\n",
       "      <td>4,570</td>\n",
       "      <td>$149.67</td>\n",
       "      <td>1.30</td>\n",
       "      <td>$0.00</td>\n",
       "      <td>60.89%</td>\n",
       "      <td>33.65%</td>\n",
       "    </tr>\n",
       "    <tr>\n",
       "      <td>1</td>\n",
       "      <td>Nest® Cam Outdoor Security Camera - USA</td>\n",
       "      <td>2017</td>\n",
       "      <td>$626,794.00</td>\n",
       "      <td>3,329</td>\n",
       "      <td>5,206</td>\n",
       "      <td>$120.40</td>\n",
       "      <td>1.56</td>\n",
       "      <td>$0.00</td>\n",
       "      <td>57.27%</td>\n",
       "      <td>26.71%</td>\n",
       "    </tr>\n",
       "    <tr>\n",
       "      <td>2</td>\n",
       "      <td>Nest® Cam Indoor Security Camera - USA</td>\n",
       "      <td>2017</td>\n",
       "      <td>$525,758.00</td>\n",
       "      <td>3,230</td>\n",
       "      <td>4,402</td>\n",
       "      <td>$119.44</td>\n",
       "      <td>1.36</td>\n",
       "      <td>$0.00</td>\n",
       "      <td>47.78%</td>\n",
       "      <td>25.33%</td>\n",
       "    </tr>\n",
       "    <tr>\n",
       "      <td>3</td>\n",
       "      <td>Nest® Learning Thermostat 3rd Gen-USA - Stainl...</td>\n",
       "      <td>2016</td>\n",
       "      <td>$284,739.00</td>\n",
       "      <td>1,478</td>\n",
       "      <td>1,911</td>\n",
       "      <td>$149.00</td>\n",
       "      <td>1.29</td>\n",
       "      <td>$0.00</td>\n",
       "      <td>54.80%</td>\n",
       "      <td>25.07%</td>\n",
       "    </tr>\n",
       "    <tr>\n",
       "      <td>4</td>\n",
       "      <td>Nest Hello Doorbell - USA</td>\n",
       "      <td>2018</td>\n",
       "      <td>$228,886.00</td>\n",
       "      <td>1,232</td>\n",
       "      <td>1,354</td>\n",
       "      <td>$169.04</td>\n",
       "      <td>1.10</td>\n",
       "      <td>$0.00</td>\n",
       "      <td>61.53%</td>\n",
       "      <td>47.49%</td>\n",
       "    </tr>\n",
       "  </tbody>\n",
       "</table>\n",
       "</div>"
      ],
      "text/plain": [
       "                                             Product  Year Product Revenue  \\\n",
       "0  Nest® Learning Thermostat 3rd Gen-USA - Stainl...  2017     $684,000.19   \n",
       "1            Nest® Cam Outdoor Security Camera - USA  2017     $626,794.00   \n",
       "2             Nest® Cam Indoor Security Camera - USA  2017     $525,758.00   \n",
       "3  Nest® Learning Thermostat 3rd Gen-USA - Stainl...  2016     $284,739.00   \n",
       "4                          Nest Hello Doorbell - USA  2018     $228,886.00   \n",
       "\n",
       "  Unique Purchases Quantity Avg. Price  Avg. QTY Product Refund Amount  \\\n",
       "0            3,511    4,570    $149.67      1.30                 $0.00   \n",
       "1            3,329    5,206    $120.40      1.56                 $0.00   \n",
       "2            3,230    4,402    $119.44      1.36                 $0.00   \n",
       "3            1,478    1,911    $149.00      1.29                 $0.00   \n",
       "4            1,232    1,354    $169.04      1.10                 $0.00   \n",
       "\n",
       "  Cart-to-Detail Rate Buy-to-Detail Rate  \n",
       "0              60.89%             33.65%  \n",
       "1              57.27%             26.71%  \n",
       "2              47.78%             25.33%  \n",
       "3              54.80%             25.07%  \n",
       "4              61.53%             47.49%  "
      ]
     },
     "execution_count": 4,
     "metadata": {},
     "output_type": "execute_result"
    }
   ],
   "source": [
    "df.head(5)"
   ]
  },
  {
   "cell_type": "code",
   "execution_count": 5,
   "metadata": {},
   "outputs": [
    {
     "data": {
      "text/html": [
       "<div>\n",
       "<style scoped>\n",
       "    .dataframe tbody tr th:only-of-type {\n",
       "        vertical-align: middle;\n",
       "    }\n",
       "\n",
       "    .dataframe tbody tr th {\n",
       "        vertical-align: top;\n",
       "    }\n",
       "\n",
       "    .dataframe thead th {\n",
       "        text-align: right;\n",
       "    }\n",
       "</style>\n",
       "<table border=\"1\" class=\"dataframe\">\n",
       "  <thead>\n",
       "    <tr style=\"text-align: right;\">\n",
       "      <th></th>\n",
       "      <th>Product</th>\n",
       "      <th>Year</th>\n",
       "      <th>Product Revenue</th>\n",
       "      <th>Unique Purchases</th>\n",
       "      <th>Quantity</th>\n",
       "      <th>Avg. Price</th>\n",
       "      <th>Avg. QTY</th>\n",
       "      <th>Product Refund Amount</th>\n",
       "      <th>Cart-to-Detail Rate</th>\n",
       "      <th>Buy-to-Detail Rate</th>\n",
       "    </tr>\n",
       "  </thead>\n",
       "  <tbody>\n",
       "    <tr>\n",
       "      <td>3148</td>\n",
       "      <td>YouTube Transmission Journal Black</td>\n",
       "      <td>2020</td>\n",
       "      <td>$0.00</td>\n",
       "      <td>0</td>\n",
       "      <td>0</td>\n",
       "      <td>$0.00</td>\n",
       "      <td>0.0</td>\n",
       "      <td>$0.00</td>\n",
       "      <td>8.65%</td>\n",
       "      <td>0.00%</td>\n",
       "    </tr>\n",
       "    <tr>\n",
       "      <td>3149</td>\n",
       "      <td>YouTube Women's 3/4 Sleeve Baseball Raglan Whi...</td>\n",
       "      <td>2017</td>\n",
       "      <td>$0.00</td>\n",
       "      <td>0</td>\n",
       "      <td>0</td>\n",
       "      <td>$0.00</td>\n",
       "      <td>0.0</td>\n",
       "      <td>$0.00</td>\n",
       "      <td>50.00%</td>\n",
       "      <td>0.00%</td>\n",
       "    </tr>\n",
       "    <tr>\n",
       "      <td>3150</td>\n",
       "      <td>YouTube Women's Favorite Tee White</td>\n",
       "      <td>2020</td>\n",
       "      <td>$0.00</td>\n",
       "      <td>0</td>\n",
       "      <td>0</td>\n",
       "      <td>$0.00</td>\n",
       "      <td>0.0</td>\n",
       "      <td>$0.00</td>\n",
       "      <td>3.23%</td>\n",
       "      <td>0.00%</td>\n",
       "    </tr>\n",
       "    <tr>\n",
       "      <td>3151</td>\n",
       "      <td>YouTube Wordmark Pin</td>\n",
       "      <td>2018</td>\n",
       "      <td>$0.00</td>\n",
       "      <td>0</td>\n",
       "      <td>0</td>\n",
       "      <td>$0.00</td>\n",
       "      <td>0.0</td>\n",
       "      <td>$0.00</td>\n",
       "      <td>2.29%</td>\n",
       "      <td>0.00%</td>\n",
       "    </tr>\n",
       "    <tr>\n",
       "      <td>3152</td>\n",
       "      <td>YouTube Wordmark Pin</td>\n",
       "      <td>2019</td>\n",
       "      <td>$0.00</td>\n",
       "      <td>0</td>\n",
       "      <td>0</td>\n",
       "      <td>$0.00</td>\n",
       "      <td>0.0</td>\n",
       "      <td>$0.00</td>\n",
       "      <td>2.17%</td>\n",
       "      <td>0.00%</td>\n",
       "    </tr>\n",
       "  </tbody>\n",
       "</table>\n",
       "</div>"
      ],
      "text/plain": [
       "                                                Product  Year Product Revenue  \\\n",
       "3148                 YouTube Transmission Journal Black  2020           $0.00   \n",
       "3149  YouTube Women's 3/4 Sleeve Baseball Raglan Whi...  2017           $0.00   \n",
       "3150                 YouTube Women's Favorite Tee White  2020           $0.00   \n",
       "3151                               YouTube Wordmark Pin  2018           $0.00   \n",
       "3152                               YouTube Wordmark Pin  2019           $0.00   \n",
       "\n",
       "     Unique Purchases Quantity Avg. Price  Avg. QTY Product Refund Amount  \\\n",
       "3148                0        0      $0.00       0.0                 $0.00   \n",
       "3149                0        0      $0.00       0.0                 $0.00   \n",
       "3150                0        0      $0.00       0.0                 $0.00   \n",
       "3151                0        0      $0.00       0.0                 $0.00   \n",
       "3152                0        0      $0.00       0.0                 $0.00   \n",
       "\n",
       "     Cart-to-Detail Rate Buy-to-Detail Rate  \n",
       "3148               8.65%              0.00%  \n",
       "3149              50.00%              0.00%  \n",
       "3150               3.23%              0.00%  \n",
       "3151               2.29%              0.00%  \n",
       "3152               2.17%              0.00%  "
      ]
     },
     "execution_count": 5,
     "metadata": {},
     "output_type": "execute_result"
    }
   ],
   "source": [
    "df.tail(5)\n",
    "#to check that all lines are included"
   ]
  },
  {
   "cell_type": "markdown",
   "metadata": {},
   "source": [
    "**Show data types**"
   ]
  },
  {
   "cell_type": "code",
   "execution_count": 6,
   "metadata": {},
   "outputs": [
    {
     "data": {
      "text/plain": [
       "Product                   object\n",
       "Year                       int64\n",
       "Product Revenue           object\n",
       "Unique Purchases          object\n",
       "Quantity                  object\n",
       "Avg. Price                object\n",
       "Avg. QTY                 float64\n",
       "Product Refund Amount     object\n",
       "Cart-to-Detail Rate       object\n",
       "Buy-to-Detail Rate        object\n",
       "dtype: object"
      ]
     },
     "execution_count": 6,
     "metadata": {},
     "output_type": "execute_result"
    }
   ],
   "source": [
    "df.dtypes"
   ]
  },
  {
   "cell_type": "markdown",
   "metadata": {},
   "source": [
    "**Cleaning columns/changing data types**"
   ]
  },
  {
   "cell_type": "code",
   "execution_count": 7,
   "metadata": {},
   "outputs": [],
   "source": [
    "#cleaning columns\n",
    "\n",
    "df[\"Year\"] = pd.to_datetime(df[\"Year\"], format='%Y')\n",
    "df[\"Year\"] = df[\"Year\"].dt.year\n",
    "df['Unique Purchases']=df['Unique Purchases'].str.replace(\",\",\"\")\n",
    "df['Quantity']=df['Quantity'].str.replace(\",\",\"\")\n",
    "df['Product Revenue']=df['Product Revenue'].str.replace(\",\",\"\")\n",
    "df['Product Revenue']=df['Product Revenue'].str.replace(\"$\",\"\")\n",
    "df['Avg. Price']=df['Avg. Price'].str.replace(\",\",\"\")\n",
    "df['Avg. Price']=df['Avg. Price'].str.replace(\"$\",\"\")\n",
    "df['Product Refund Amount']=df['Product Refund Amount'].str.replace(\",\",\"\")\n",
    "df['Product Refund Amount']=df['Product Refund Amount'].str.replace(\"$\",\"\")\n",
    "\n",
    "#cleaning columns + changing data type\n",
    "df['Cart-to-Detail Rate'] = df['Cart-to-Detail Rate'].str.replace(\",\",\"\").str.rstrip('%').astype('float') / 100.0\n",
    "df['Buy-to-Detail Rate'] = df['Buy-to-Detail Rate'].str.replace(\",\",\"\").str.rstrip('%').astype('float') / 100.0\n"
   ]
  },
  {
   "cell_type": "code",
   "execution_count": 8,
   "metadata": {},
   "outputs": [],
   "source": [
    "#changing types of columns\n",
    "\n",
    "df[\"Unique Purchases\"] = df[\"Unique Purchases\"].astype(int)\n",
    "df[\"Quantity\"] = df[\"Quantity\"].astype(int)\n",
    "df[\"Product Revenue\"] = df[\"Product Revenue\"].astype(float)\n",
    "df[\"Avg. Price\"] = df[\"Avg. Price\"].astype(float)\n",
    "df[\"Product Refund Amount\"] = df[\"Product Refund Amount\"].astype(float)\n",
    "\n",
    "#Ignore:\n",
    "#df[\"Avg. Session Duration\"] = pd.to_timedelta(df[\"Avg. Session Duration\"])\n",
    "#df[\"Avg. Session Duration\"] = df[\"Avg. Session Duration\"].apply(lambda x: pd.to_datetime(str(x), format='%H:%M:%S))"
   ]
  },
  {
   "cell_type": "code",
   "execution_count": 9,
   "metadata": {},
   "outputs": [
    {
     "data": {
      "text/plain": [
       "Product                   object\n",
       "Year                       int64\n",
       "Product Revenue          float64\n",
       "Unique Purchases           int64\n",
       "Quantity                   int64\n",
       "Avg. Price               float64\n",
       "Avg. QTY                 float64\n",
       "Product Refund Amount    float64\n",
       "Cart-to-Detail Rate      float64\n",
       "Buy-to-Detail Rate       float64\n",
       "dtype: object"
      ]
     },
     "execution_count": 9,
     "metadata": {},
     "output_type": "execute_result"
    }
   ],
   "source": [
    "#check updated data types\n",
    "\n",
    "df.dtypes"
   ]
  },
  {
   "cell_type": "markdown",
   "metadata": {},
   "source": [
    "**Show updated head of DataFrame**"
   ]
  },
  {
   "cell_type": "code",
   "execution_count": 10,
   "metadata": {},
   "outputs": [
    {
     "data": {
      "text/html": [
       "<div>\n",
       "<style scoped>\n",
       "    .dataframe tbody tr th:only-of-type {\n",
       "        vertical-align: middle;\n",
       "    }\n",
       "\n",
       "    .dataframe tbody tr th {\n",
       "        vertical-align: top;\n",
       "    }\n",
       "\n",
       "    .dataframe thead th {\n",
       "        text-align: right;\n",
       "    }\n",
       "</style>\n",
       "<table border=\"1\" class=\"dataframe\">\n",
       "  <thead>\n",
       "    <tr style=\"text-align: right;\">\n",
       "      <th></th>\n",
       "      <th>Product</th>\n",
       "      <th>Year</th>\n",
       "      <th>Product Revenue</th>\n",
       "      <th>Unique Purchases</th>\n",
       "      <th>Quantity</th>\n",
       "      <th>Avg. Price</th>\n",
       "      <th>Avg. QTY</th>\n",
       "      <th>Product Refund Amount</th>\n",
       "      <th>Cart-to-Detail Rate</th>\n",
       "      <th>Buy-to-Detail Rate</th>\n",
       "    </tr>\n",
       "  </thead>\n",
       "  <tbody>\n",
       "    <tr>\n",
       "      <td>0</td>\n",
       "      <td>Nest® Learning Thermostat 3rd Gen-USA - Stainl...</td>\n",
       "      <td>2017</td>\n",
       "      <td>684000.19</td>\n",
       "      <td>3511</td>\n",
       "      <td>4570</td>\n",
       "      <td>149.67</td>\n",
       "      <td>1.30</td>\n",
       "      <td>0.0</td>\n",
       "      <td>0.6089</td>\n",
       "      <td>0.3365</td>\n",
       "    </tr>\n",
       "    <tr>\n",
       "      <td>1</td>\n",
       "      <td>Nest® Cam Outdoor Security Camera - USA</td>\n",
       "      <td>2017</td>\n",
       "      <td>626794.00</td>\n",
       "      <td>3329</td>\n",
       "      <td>5206</td>\n",
       "      <td>120.40</td>\n",
       "      <td>1.56</td>\n",
       "      <td>0.0</td>\n",
       "      <td>0.5727</td>\n",
       "      <td>0.2671</td>\n",
       "    </tr>\n",
       "    <tr>\n",
       "      <td>2</td>\n",
       "      <td>Nest® Cam Indoor Security Camera - USA</td>\n",
       "      <td>2017</td>\n",
       "      <td>525758.00</td>\n",
       "      <td>3230</td>\n",
       "      <td>4402</td>\n",
       "      <td>119.44</td>\n",
       "      <td>1.36</td>\n",
       "      <td>0.0</td>\n",
       "      <td>0.4778</td>\n",
       "      <td>0.2533</td>\n",
       "    </tr>\n",
       "    <tr>\n",
       "      <td>3</td>\n",
       "      <td>Nest® Learning Thermostat 3rd Gen-USA - Stainl...</td>\n",
       "      <td>2016</td>\n",
       "      <td>284739.00</td>\n",
       "      <td>1478</td>\n",
       "      <td>1911</td>\n",
       "      <td>149.00</td>\n",
       "      <td>1.29</td>\n",
       "      <td>0.0</td>\n",
       "      <td>0.5480</td>\n",
       "      <td>0.2507</td>\n",
       "    </tr>\n",
       "    <tr>\n",
       "      <td>4</td>\n",
       "      <td>Nest Hello Doorbell - USA</td>\n",
       "      <td>2018</td>\n",
       "      <td>228886.00</td>\n",
       "      <td>1232</td>\n",
       "      <td>1354</td>\n",
       "      <td>169.04</td>\n",
       "      <td>1.10</td>\n",
       "      <td>0.0</td>\n",
       "      <td>0.6153</td>\n",
       "      <td>0.4749</td>\n",
       "    </tr>\n",
       "    <tr>\n",
       "      <td>5</td>\n",
       "      <td>Nest® Protect Smoke + CO White Battery Alarm-USA</td>\n",
       "      <td>2017</td>\n",
       "      <td>212777.00</td>\n",
       "      <td>1362</td>\n",
       "      <td>2683</td>\n",
       "      <td>79.31</td>\n",
       "      <td>1.97</td>\n",
       "      <td>0.0</td>\n",
       "      <td>0.6403</td>\n",
       "      <td>0.3068</td>\n",
       "    </tr>\n",
       "    <tr>\n",
       "      <td>6</td>\n",
       "      <td>Nest® Protect Smoke + CO White Wired Alarm-USA</td>\n",
       "      <td>2017</td>\n",
       "      <td>211500.00</td>\n",
       "      <td>1065</td>\n",
       "      <td>2670</td>\n",
       "      <td>79.21</td>\n",
       "      <td>2.51</td>\n",
       "      <td>0.0</td>\n",
       "      <td>0.6083</td>\n",
       "      <td>0.2686</td>\n",
       "    </tr>\n",
       "    <tr>\n",
       "      <td>7</td>\n",
       "      <td>Nest® Learning Thermostat 3rd Gen-USA - White</td>\n",
       "      <td>2017</td>\n",
       "      <td>203932.00</td>\n",
       "      <td>1090</td>\n",
       "      <td>1368</td>\n",
       "      <td>149.07</td>\n",
       "      <td>1.26</td>\n",
       "      <td>0.0</td>\n",
       "      <td>0.5834</td>\n",
       "      <td>0.3128</td>\n",
       "    </tr>\n",
       "    <tr>\n",
       "      <td>8</td>\n",
       "      <td>Nest® Cam Outdoor Security Camera - USA</td>\n",
       "      <td>2016</td>\n",
       "      <td>202146.00</td>\n",
       "      <td>1076</td>\n",
       "      <td>1694</td>\n",
       "      <td>119.33</td>\n",
       "      <td>1.57</td>\n",
       "      <td>0.0</td>\n",
       "      <td>0.5407</td>\n",
       "      <td>0.2663</td>\n",
       "    </tr>\n",
       "    <tr>\n",
       "      <td>9</td>\n",
       "      <td>Nest® Secure Alarm System Starter Pack - USA</td>\n",
       "      <td>2018</td>\n",
       "      <td>184621.00</td>\n",
       "      <td>521</td>\n",
       "      <td>529</td>\n",
       "      <td>349.00</td>\n",
       "      <td>1.02</td>\n",
       "      <td>0.0</td>\n",
       "      <td>0.3586</td>\n",
       "      <td>0.1717</td>\n",
       "    </tr>\n",
       "  </tbody>\n",
       "</table>\n",
       "</div>"
      ],
      "text/plain": [
       "                                             Product  Year  Product Revenue  \\\n",
       "0  Nest® Learning Thermostat 3rd Gen-USA - Stainl...  2017        684000.19   \n",
       "1            Nest® Cam Outdoor Security Camera - USA  2017        626794.00   \n",
       "2             Nest® Cam Indoor Security Camera - USA  2017        525758.00   \n",
       "3  Nest® Learning Thermostat 3rd Gen-USA - Stainl...  2016        284739.00   \n",
       "4                          Nest Hello Doorbell - USA  2018        228886.00   \n",
       "5   Nest® Protect Smoke + CO White Battery Alarm-USA  2017        212777.00   \n",
       "6     Nest® Protect Smoke + CO White Wired Alarm-USA  2017        211500.00   \n",
       "7      Nest® Learning Thermostat 3rd Gen-USA - White  2017        203932.00   \n",
       "8            Nest® Cam Outdoor Security Camera - USA  2016        202146.00   \n",
       "9       Nest® Secure Alarm System Starter Pack - USA  2018        184621.00   \n",
       "\n",
       "   Unique Purchases  Quantity  Avg. Price  Avg. QTY  Product Refund Amount  \\\n",
       "0              3511      4570      149.67      1.30                    0.0   \n",
       "1              3329      5206      120.40      1.56                    0.0   \n",
       "2              3230      4402      119.44      1.36                    0.0   \n",
       "3              1478      1911      149.00      1.29                    0.0   \n",
       "4              1232      1354      169.04      1.10                    0.0   \n",
       "5              1362      2683       79.31      1.97                    0.0   \n",
       "6              1065      2670       79.21      2.51                    0.0   \n",
       "7              1090      1368      149.07      1.26                    0.0   \n",
       "8              1076      1694      119.33      1.57                    0.0   \n",
       "9               521       529      349.00      1.02                    0.0   \n",
       "\n",
       "   Cart-to-Detail Rate  Buy-to-Detail Rate  \n",
       "0               0.6089              0.3365  \n",
       "1               0.5727              0.2671  \n",
       "2               0.4778              0.2533  \n",
       "3               0.5480              0.2507  \n",
       "4               0.6153              0.4749  \n",
       "5               0.6403              0.3068  \n",
       "6               0.6083              0.2686  \n",
       "7               0.5834              0.3128  \n",
       "8               0.5407              0.2663  \n",
       "9               0.3586              0.1717  "
      ]
     },
     "execution_count": 10,
     "metadata": {},
     "output_type": "execute_result"
    }
   ],
   "source": [
    "df.head(10)"
   ]
  },
  {
   "cell_type": "markdown",
   "metadata": {},
   "source": [
    "- top sellers are Nest products, generating the most revenue\n",
    "- avg. price for those products mostly >100USD"
   ]
  },
  {
   "cell_type": "markdown",
   "metadata": {},
   "source": [
    "**Compute a summary of statistics pertaining to the numerical DataFrame columns**"
   ]
  },
  {
   "cell_type": "code",
   "execution_count": 11,
   "metadata": {},
   "outputs": [
    {
     "data": {
      "text/html": [
       "<div>\n",
       "<style scoped>\n",
       "    .dataframe tbody tr th:only-of-type {\n",
       "        vertical-align: middle;\n",
       "    }\n",
       "\n",
       "    .dataframe tbody tr th {\n",
       "        vertical-align: top;\n",
       "    }\n",
       "\n",
       "    .dataframe thead th {\n",
       "        text-align: right;\n",
       "    }\n",
       "</style>\n",
       "<table border=\"1\" class=\"dataframe\">\n",
       "  <thead>\n",
       "    <tr style=\"text-align: right;\">\n",
       "      <th></th>\n",
       "      <th>Year</th>\n",
       "      <th>Product Revenue</th>\n",
       "      <th>Unique Purchases</th>\n",
       "      <th>Quantity</th>\n",
       "      <th>Avg. Price</th>\n",
       "      <th>Avg. QTY</th>\n",
       "      <th>Product Refund Amount</th>\n",
       "      <th>Cart-to-Detail Rate</th>\n",
       "      <th>Buy-to-Detail Rate</th>\n",
       "    </tr>\n",
       "  </thead>\n",
       "  <tbody>\n",
       "    <tr>\n",
       "      <td>count</td>\n",
       "      <td>3153.000000</td>\n",
       "      <td>3153.000000</td>\n",
       "      <td>3153.000000</td>\n",
       "      <td>3153.000000</td>\n",
       "      <td>3153.000000</td>\n",
       "      <td>3153.000000</td>\n",
       "      <td>3153.0</td>\n",
       "      <td>3153.000000</td>\n",
       "      <td>3153.000000</td>\n",
       "    </tr>\n",
       "    <tr>\n",
       "      <td>mean</td>\n",
       "      <td>2017.027593</td>\n",
       "      <td>3359.577520</td>\n",
       "      <td>49.249286</td>\n",
       "      <td>217.636219</td>\n",
       "      <td>21.292620</td>\n",
       "      <td>2.593482</td>\n",
       "      <td>0.0</td>\n",
       "      <td>0.389268</td>\n",
       "      <td>0.222673</td>\n",
       "    </tr>\n",
       "    <tr>\n",
       "      <td>std</td>\n",
       "      <td>1.767641</td>\n",
       "      <td>23587.260876</td>\n",
       "      <td>150.892558</td>\n",
       "      <td>854.359873</td>\n",
       "      <td>33.602288</td>\n",
       "      <td>4.788142</td>\n",
       "      <td>0.0</td>\n",
       "      <td>2.272347</td>\n",
       "      <td>1.995742</td>\n",
       "    </tr>\n",
       "    <tr>\n",
       "      <td>min</td>\n",
       "      <td>2014.000000</td>\n",
       "      <td>0.000000</td>\n",
       "      <td>0.000000</td>\n",
       "      <td>0.000000</td>\n",
       "      <td>0.000000</td>\n",
       "      <td>0.000000</td>\n",
       "      <td>0.0</td>\n",
       "      <td>0.000000</td>\n",
       "      <td>0.000000</td>\n",
       "    </tr>\n",
       "    <tr>\n",
       "      <td>25%</td>\n",
       "      <td>2016.000000</td>\n",
       "      <td>20.000000</td>\n",
       "      <td>1.000000</td>\n",
       "      <td>1.000000</td>\n",
       "      <td>2.950000</td>\n",
       "      <td>1.000000</td>\n",
       "      <td>0.0</td>\n",
       "      <td>0.078900</td>\n",
       "      <td>0.002800</td>\n",
       "    </tr>\n",
       "    <tr>\n",
       "      <td>50%</td>\n",
       "      <td>2017.000000</td>\n",
       "      <td>258.300000</td>\n",
       "      <td>10.000000</td>\n",
       "      <td>16.000000</td>\n",
       "      <td>13.000000</td>\n",
       "      <td>1.130000</td>\n",
       "      <td>0.0</td>\n",
       "      <td>0.181000</td>\n",
       "      <td>0.024800</td>\n",
       "    </tr>\n",
       "    <tr>\n",
       "      <td>75%</td>\n",
       "      <td>2019.000000</td>\n",
       "      <td>1520.000000</td>\n",
       "      <td>45.000000</td>\n",
       "      <td>94.000000</td>\n",
       "      <td>21.920000</td>\n",
       "      <td>2.100000</td>\n",
       "      <td>0.0</td>\n",
       "      <td>0.332300</td>\n",
       "      <td>0.078300</td>\n",
       "    </tr>\n",
       "    <tr>\n",
       "      <td>max</td>\n",
       "      <td>2020.000000</td>\n",
       "      <td>684000.190000</td>\n",
       "      <td>3511.000000</td>\n",
       "      <td>17136.000000</td>\n",
       "      <td>349.000000</td>\n",
       "      <td>100.000000</td>\n",
       "      <td>0.0</td>\n",
       "      <td>64.666700</td>\n",
       "      <td>65.000000</td>\n",
       "    </tr>\n",
       "  </tbody>\n",
       "</table>\n",
       "</div>"
      ],
      "text/plain": [
       "              Year  Product Revenue  Unique Purchases      Quantity  \\\n",
       "count  3153.000000      3153.000000       3153.000000   3153.000000   \n",
       "mean   2017.027593      3359.577520         49.249286    217.636219   \n",
       "std       1.767641     23587.260876        150.892558    854.359873   \n",
       "min    2014.000000         0.000000          0.000000      0.000000   \n",
       "25%    2016.000000        20.000000          1.000000      1.000000   \n",
       "50%    2017.000000       258.300000         10.000000     16.000000   \n",
       "75%    2019.000000      1520.000000         45.000000     94.000000   \n",
       "max    2020.000000    684000.190000       3511.000000  17136.000000   \n",
       "\n",
       "        Avg. Price     Avg. QTY  Product Refund Amount  Cart-to-Detail Rate  \\\n",
       "count  3153.000000  3153.000000                 3153.0          3153.000000   \n",
       "mean     21.292620     2.593482                    0.0             0.389268   \n",
       "std      33.602288     4.788142                    0.0             2.272347   \n",
       "min       0.000000     0.000000                    0.0             0.000000   \n",
       "25%       2.950000     1.000000                    0.0             0.078900   \n",
       "50%      13.000000     1.130000                    0.0             0.181000   \n",
       "75%      21.920000     2.100000                    0.0             0.332300   \n",
       "max     349.000000   100.000000                    0.0            64.666700   \n",
       "\n",
       "       Buy-to-Detail Rate  \n",
       "count         3153.000000  \n",
       "mean             0.222673  \n",
       "std              1.995742  \n",
       "min              0.000000  \n",
       "25%              0.002800  \n",
       "50%              0.024800  \n",
       "75%              0.078300  \n",
       "max             65.000000  "
      ]
     },
     "execution_count": 11,
     "metadata": {},
     "output_type": "execute_result"
    }
   ],
   "source": [
    "df.describe()"
   ]
  },
  {
   "cell_type": "markdown",
   "metadata": {},
   "source": [
    "### Plotting values to visualize insights"
   ]
  },
  {
   "cell_type": "markdown",
   "metadata": {},
   "source": [
    "Show relation between quantity and avg. price"
   ]
  },
  {
   "cell_type": "code",
   "execution_count": 12,
   "metadata": {},
   "outputs": [
    {
     "data": {
      "image/png": "[encoded data removed]",
      "text/plain": [
       "<Figure size 432x288 with 1 Axes>"
      ]
     },
     "metadata": {
      "needs_background": "light"
     },
     "output_type": "display_data"
    }
   ],
   "source": [
    "ax = sns.regplot(x=\"Avg. Price\", y=\"Quantity\", line_kws={\"color\":\"r\"}, data=df)"
   ]
  },
  {
   "cell_type": "markdown",
   "metadata": {},
   "source": [
    "- majority of products has a price <50USD\n",
    "- quantity increases with lower avg. price\n",
    "- products sold with av.g price >100USD and >2500 times are Nest products"
   ]
  },
  {
   "cell_type": "markdown",
   "metadata": {},
   "source": [
    "**Grouping numerical values by year**"
   ]
  },
  {
   "cell_type": "code",
   "execution_count": 13,
   "metadata": {},
   "outputs": [
    {
     "data": {
      "text/html": [
       "<div>\n",
       "<style scoped>\n",
       "    .dataframe tbody tr th:only-of-type {\n",
       "        vertical-align: middle;\n",
       "    }\n",
       "\n",
       "    .dataframe tbody tr th {\n",
       "        vertical-align: top;\n",
       "    }\n",
       "\n",
       "    .dataframe thead th {\n",
       "        text-align: right;\n",
       "    }\n",
       "</style>\n",
       "<table border=\"1\" class=\"dataframe\">\n",
       "  <thead>\n",
       "    <tr style=\"text-align: right;\">\n",
       "      <th></th>\n",
       "      <th>Year</th>\n",
       "      <th>Product Revenue</th>\n",
       "      <th>Unique Purchases</th>\n",
       "      <th>Quantity</th>\n",
       "      <th>Avg. Price</th>\n",
       "      <th>Avg. QTY</th>\n",
       "      <th>Product Refund Amount</th>\n",
       "      <th>Cart-to-Detail Rate</th>\n",
       "      <th>Buy-to-Detail Rate</th>\n",
       "    </tr>\n",
       "  </thead>\n",
       "  <tbody>\n",
       "    <tr>\n",
       "      <td>0</td>\n",
       "      <td>2014</td>\n",
       "      <td>7122.51</td>\n",
       "      <td>299</td>\n",
       "      <td>968</td>\n",
       "      <td>2651.82</td>\n",
       "      <td>446.88</td>\n",
       "      <td>0.0</td>\n",
       "      <td>5.5485</td>\n",
       "      <td>8.2253</td>\n",
       "    </tr>\n",
       "    <tr>\n",
       "      <td>1</td>\n",
       "      <td>2015</td>\n",
       "      <td>552179.79</td>\n",
       "      <td>16829</td>\n",
       "      <td>71329</td>\n",
       "      <td>9586.96</td>\n",
       "      <td>1422.11</td>\n",
       "      <td>0.0</td>\n",
       "      <td>67.9387</td>\n",
       "      <td>16.1201</td>\n",
       "    </tr>\n",
       "    <tr>\n",
       "      <td>2</td>\n",
       "      <td>2016</td>\n",
       "      <td>2251127.71</td>\n",
       "      <td>45260</td>\n",
       "      <td>230228</td>\n",
       "      <td>19404.33</td>\n",
       "      <td>2662.11</td>\n",
       "      <td>0.0</td>\n",
       "      <td>437.9952</td>\n",
       "      <td>232.8566</td>\n",
       "    </tr>\n",
       "    <tr>\n",
       "      <td>3</td>\n",
       "      <td>2017</td>\n",
       "      <td>4744060.67</td>\n",
       "      <td>54178</td>\n",
       "      <td>252572</td>\n",
       "      <td>12332.90</td>\n",
       "      <td>1984.09</td>\n",
       "      <td>0.0</td>\n",
       "      <td>456.1404</td>\n",
       "      <td>302.7174</td>\n",
       "    </tr>\n",
       "    <tr>\n",
       "      <td>4</td>\n",
       "      <td>2018</td>\n",
       "      <td>2966794.40</td>\n",
       "      <td>35514</td>\n",
       "      <td>125192</td>\n",
       "      <td>12441.87</td>\n",
       "      <td>846.52</td>\n",
       "      <td>0.0</td>\n",
       "      <td>122.6806</td>\n",
       "      <td>78.7019</td>\n",
       "    </tr>\n",
       "    <tr>\n",
       "      <td>5</td>\n",
       "      <td>2019</td>\n",
       "      <td>63334.49</td>\n",
       "      <td>2824</td>\n",
       "      <td>5168</td>\n",
       "      <td>7293.16</td>\n",
       "      <td>559.49</td>\n",
       "      <td>0.0</td>\n",
       "      <td>97.5609</td>\n",
       "      <td>58.9965</td>\n",
       "    </tr>\n",
       "    <tr>\n",
       "      <td>6</td>\n",
       "      <td>2020</td>\n",
       "      <td>8128.35</td>\n",
       "      <td>379</td>\n",
       "      <td>750</td>\n",
       "      <td>3424.59</td>\n",
       "      <td>256.05</td>\n",
       "      <td>0.0</td>\n",
       "      <td>39.4982</td>\n",
       "      <td>4.4700</td>\n",
       "    </tr>\n",
       "  </tbody>\n",
       "</table>\n",
       "</div>"
      ],
      "text/plain": [
       "   Year  Product Revenue  Unique Purchases  Quantity  Avg. Price  Avg. QTY  \\\n",
       "0  2014          7122.51               299       968     2651.82    446.88   \n",
       "1  2015        552179.79             16829     71329     9586.96   1422.11   \n",
       "2  2016       2251127.71             45260    230228    19404.33   2662.11   \n",
       "3  2017       4744060.67             54178    252572    12332.90   1984.09   \n",
       "4  2018       2966794.40             35514    125192    12441.87    846.52   \n",
       "5  2019         63334.49              2824      5168     7293.16    559.49   \n",
       "6  2020          8128.35               379       750     3424.59    256.05   \n",
       "\n",
       "   Product Refund Amount  Cart-to-Detail Rate  Buy-to-Detail Rate  \n",
       "0                    0.0               5.5485              8.2253  \n",
       "1                    0.0              67.9387             16.1201  \n",
       "2                    0.0             437.9952            232.8566  \n",
       "3                    0.0             456.1404            302.7174  \n",
       "4                    0.0             122.6806             78.7019  \n",
       "5                    0.0              97.5609             58.9965  \n",
       "6                    0.0              39.4982              4.4700  "
      ]
     },
     "execution_count": 13,
     "metadata": {},
     "output_type": "execute_result"
    }
   ],
   "source": [
    "df_year = df.groupby(['Year']).sum()\n",
    "df_year = df_year.reset_index() #reset index to make Year a column again\n",
    "df_year"
   ]
  },
  {
   "cell_type": "markdown",
   "metadata": {},
   "source": [
    "- highest revenue in 2017, followed by 2018 and 2016\n",
    "- huge drop of revenue in 2019\n",
    "- numbers of 2014 very low as only data from October 2014 available"
   ]
  },
  {
   "cell_type": "markdown",
   "metadata": {},
   "source": [
    "**Add number of employees of Alphabet (parent company of Google) to dataframe**\n",
    "\n",
    "Taken from: \n",
    "\n",
    "https://www.statista.com/statistics/273744/number-of-full-time-google-employees/"
   ]
  },
  {
   "cell_type": "code",
   "execution_count": 14,
   "metadata": {},
   "outputs": [],
   "source": [
    "#drop numbers of 2020 as the number of employees not yet available\n",
    "df_year = df_year.drop([6])\n",
    "\n",
    "#add number of employees per year\n",
    "df_year.insert(4, \"Employees\", [53600, 61814, 72503, 88110, 98771, 118899], True)"
   ]
  },
  {
   "cell_type": "markdown",
   "metadata": {},
   "source": [
    "- in 2014, Google started to increase the numbers of employees significantly\n",
    "- this implies an aggressive growth strategy and focus on generating more revenue"
   ]
  },
  {
   "cell_type": "code",
   "execution_count": 15,
   "metadata": {},
   "outputs": [
    {
     "data": {
      "text/html": [
       "<div>\n",
       "<style scoped>\n",
       "    .dataframe tbody tr th:only-of-type {\n",
       "        vertical-align: middle;\n",
       "    }\n",
       "\n",
       "    .dataframe tbody tr th {\n",
       "        vertical-align: top;\n",
       "    }\n",
       "\n",
       "    .dataframe thead th {\n",
       "        text-align: right;\n",
       "    }\n",
       "</style>\n",
       "<table border=\"1\" class=\"dataframe\">\n",
       "  <thead>\n",
       "    <tr style=\"text-align: right;\">\n",
       "      <th></th>\n",
       "      <th>Year</th>\n",
       "      <th>Product Revenue</th>\n",
       "      <th>Unique Purchases</th>\n",
       "      <th>Quantity</th>\n",
       "      <th>Employees</th>\n",
       "      <th>Avg. Price</th>\n",
       "      <th>Avg. QTY</th>\n",
       "      <th>Product Refund Amount</th>\n",
       "      <th>Cart-to-Detail Rate</th>\n",
       "      <th>Buy-to-Detail Rate</th>\n",
       "      <th>Revenue per Employee ($)</th>\n",
       "    </tr>\n",
       "  </thead>\n",
       "  <tbody>\n",
       "    <tr>\n",
       "      <td>0</td>\n",
       "      <td>2014</td>\n",
       "      <td>7122.51</td>\n",
       "      <td>299</td>\n",
       "      <td>968</td>\n",
       "      <td>53600</td>\n",
       "      <td>2651.82</td>\n",
       "      <td>446.88</td>\n",
       "      <td>0.0</td>\n",
       "      <td>5.5485</td>\n",
       "      <td>8.2253</td>\n",
       "      <td>0.132883</td>\n",
       "    </tr>\n",
       "    <tr>\n",
       "      <td>1</td>\n",
       "      <td>2015</td>\n",
       "      <td>552179.79</td>\n",
       "      <td>16829</td>\n",
       "      <td>71329</td>\n",
       "      <td>61814</td>\n",
       "      <td>9586.96</td>\n",
       "      <td>1422.11</td>\n",
       "      <td>0.0</td>\n",
       "      <td>67.9387</td>\n",
       "      <td>16.1201</td>\n",
       "      <td>8.932924</td>\n",
       "    </tr>\n",
       "    <tr>\n",
       "      <td>2</td>\n",
       "      <td>2016</td>\n",
       "      <td>2251127.71</td>\n",
       "      <td>45260</td>\n",
       "      <td>230228</td>\n",
       "      <td>72503</td>\n",
       "      <td>19404.33</td>\n",
       "      <td>2662.11</td>\n",
       "      <td>0.0</td>\n",
       "      <td>437.9952</td>\n",
       "      <td>232.8566</td>\n",
       "      <td>31.048753</td>\n",
       "    </tr>\n",
       "    <tr>\n",
       "      <td>3</td>\n",
       "      <td>2017</td>\n",
       "      <td>4744060.67</td>\n",
       "      <td>54178</td>\n",
       "      <td>252572</td>\n",
       "      <td>88110</td>\n",
       "      <td>12332.90</td>\n",
       "      <td>1984.09</td>\n",
       "      <td>0.0</td>\n",
       "      <td>456.1404</td>\n",
       "      <td>302.7174</td>\n",
       "      <td>53.842477</td>\n",
       "    </tr>\n",
       "    <tr>\n",
       "      <td>4</td>\n",
       "      <td>2018</td>\n",
       "      <td>2966794.40</td>\n",
       "      <td>35514</td>\n",
       "      <td>125192</td>\n",
       "      <td>98771</td>\n",
       "      <td>12441.87</td>\n",
       "      <td>846.52</td>\n",
       "      <td>0.0</td>\n",
       "      <td>122.6806</td>\n",
       "      <td>78.7019</td>\n",
       "      <td>30.037100</td>\n",
       "    </tr>\n",
       "    <tr>\n",
       "      <td>5</td>\n",
       "      <td>2019</td>\n",
       "      <td>63334.49</td>\n",
       "      <td>2824</td>\n",
       "      <td>5168</td>\n",
       "      <td>118899</td>\n",
       "      <td>7293.16</td>\n",
       "      <td>559.49</td>\n",
       "      <td>0.0</td>\n",
       "      <td>97.5609</td>\n",
       "      <td>58.9965</td>\n",
       "      <td>0.532675</td>\n",
       "    </tr>\n",
       "  </tbody>\n",
       "</table>\n",
       "</div>"
      ],
      "text/plain": [
       "   Year  Product Revenue  Unique Purchases  Quantity  Employees  Avg. Price  \\\n",
       "0  2014          7122.51               299       968      53600     2651.82   \n",
       "1  2015        552179.79             16829     71329      61814     9586.96   \n",
       "2  2016       2251127.71             45260    230228      72503    19404.33   \n",
       "3  2017       4744060.67             54178    252572      88110    12332.90   \n",
       "4  2018       2966794.40             35514    125192      98771    12441.87   \n",
       "5  2019         63334.49              2824      5168     118899     7293.16   \n",
       "\n",
       "   Avg. QTY  Product Refund Amount  Cart-to-Detail Rate  Buy-to-Detail Rate  \\\n",
       "0    446.88                    0.0               5.5485              8.2253   \n",
       "1   1422.11                    0.0              67.9387             16.1201   \n",
       "2   2662.11                    0.0             437.9952            232.8566   \n",
       "3   1984.09                    0.0             456.1404            302.7174   \n",
       "4    846.52                    0.0             122.6806             78.7019   \n",
       "5    559.49                    0.0              97.5609             58.9965   \n",
       "\n",
       "   Revenue per Employee ($)  \n",
       "0                  0.132883  \n",
       "1                  8.932924  \n",
       "2                 31.048753  \n",
       "3                 53.842477  \n",
       "4                 30.037100  \n",
       "5                  0.532675  "
      ]
     },
     "execution_count": 15,
     "metadata": {},
     "output_type": "execute_result"
    }
   ],
   "source": [
    "#calculate revenue per employee for all years\n",
    "df_year[\"Revenue per Employee ($)\"] = df_year[\"Product Revenue\"] / df_year[\"Employees\"]\n",
    "df_year"
   ]
  },
  {
   "cell_type": "markdown",
   "metadata": {},
   "source": [
    "**Plot product revenue and revenue per employee per year**"
   ]
  },
  {
   "cell_type": "code",
   "execution_count": 16,
   "metadata": {},
   "outputs": [
    {
     "data": {
      "image/png": "[encoded data removed]",
      "text/plain": [
       "<Figure size 432x288 with 1 Axes>"
      ]
     },
     "metadata": {},
     "output_type": "display_data"
    },
    {
     "data": {
      "image/png": "[encoded data removed]",
      "text/plain": [
       "<Figure size 360x360 with 1 Axes>"
      ]
     },
     "metadata": {},
     "output_type": "display_data"
    }
   ],
   "source": [
    "#set style of plot\n",
    "#sns.set(style=\"whitegrid\")\n",
    "sns.set_style(\"ticks\") \n",
    "\n",
    "#product revenue per year\n",
    "ax = sns.barplot(x=\"Year\", y=\"Product Revenue\", data=df_year)\n",
    "\n",
    "#revenue per employee per year\n",
    "g = sns.relplot(x=\"Year\", y=\"Revenue per Employee ($)\", kind=\"line\", data=df_year)\n"
   ]
  },
  {
   "cell_type": "markdown",
   "metadata": {},
   "source": [
    "- revenue increases strongly from 2015 to 2017\n",
    "- main driver are Nest products (see df.head(10) above)\n",
    "- strong drop in 2018 but even more significantly decrease in 2019\n",
    "- revenue per employee shows similar trend"
   ]
  },
  {
   "cell_type": "markdown",
   "metadata": {},
   "source": [
    "**Check of number of unique purchases (=orders) and quantity (=number of products sold)**"
   ]
  },
  {
   "cell_type": "code",
   "execution_count": 17,
   "metadata": {},
   "outputs": [
    {
     "data": {
      "image/png": "[encoded data removed]",
      "text/plain": [
       "<Figure size 432x288 with 1 Axes>"
      ]
     },
     "metadata": {},
     "output_type": "display_data"
    }
   ],
   "source": [
    "ax = sns.barplot(x=\"Year\", y=\"Unique Purchases\", data=df_year)"
   ]
  },
  {
   "cell_type": "code",
   "execution_count": 18,
   "metadata": {},
   "outputs": [
    {
     "data": {
      "image/png": "[encoded data removed]",
      "text/plain": [
       "<Figure size 432x288 with 1 Axes>"
      ]
     },
     "metadata": {},
     "output_type": "display_data"
    }
   ],
   "source": [
    "ax = sns.barplot(x=\"Year\", y=\"Quantity\", data=df_year)"
   ]
  },
  {
   "cell_type": "markdown",
   "metadata": {},
   "source": [
    "- both graph show similar picture as for revenue but the differences in absolute numbers are not as huge as for revenue\n",
    "- this is due to the fact that the average price for Nest products is much higher than the average price that simple merchandise products cost\n",
    "\n",
    "--> therefore, we will exclude Nest products now from thsi analysis"
   ]
  },
  {
   "cell_type": "markdown",
   "metadata": {},
   "source": [
    "### Exclude all Nest Products"
   ]
  },
  {
   "cell_type": "code",
   "execution_count": 19,
   "metadata": {},
   "outputs": [
    {
     "data": {
      "text/plain": [
       "(3061, 10)"
      ]
     },
     "execution_count": 19,
     "metadata": {},
     "output_type": "execute_result"
    }
   ],
   "source": [
    "df_ex_nest = df[~df[\"Product\"].str.contains(\"Nest\")]\n",
    "df_ex_nest = df_ex_nest.reset_index(drop=True)\n",
    "df_ex_nest.shape #show number of lines and columns after deleting Nest products"
   ]
  },
  {
   "cell_type": "code",
   "execution_count": 20,
   "metadata": {},
   "outputs": [
    {
     "data": {
      "text/html": [
       "<div>\n",
       "<style scoped>\n",
       "    .dataframe tbody tr th:only-of-type {\n",
       "        vertical-align: middle;\n",
       "    }\n",
       "\n",
       "    .dataframe tbody tr th {\n",
       "        vertical-align: top;\n",
       "    }\n",
       "\n",
       "    .dataframe thead th {\n",
       "        text-align: right;\n",
       "    }\n",
       "</style>\n",
       "<table border=\"1\" class=\"dataframe\">\n",
       "  <thead>\n",
       "    <tr style=\"text-align: right;\">\n",
       "      <th></th>\n",
       "      <th>Product</th>\n",
       "      <th>Year</th>\n",
       "      <th>Product Revenue</th>\n",
       "      <th>Unique Purchases</th>\n",
       "      <th>Quantity</th>\n",
       "      <th>Avg. Price</th>\n",
       "      <th>Avg. QTY</th>\n",
       "      <th>Product Refund Amount</th>\n",
       "      <th>Cart-to-Detail Rate</th>\n",
       "      <th>Buy-to-Detail Rate</th>\n",
       "    </tr>\n",
       "  </thead>\n",
       "  <tbody>\n",
       "    <tr>\n",
       "      <td>0</td>\n",
       "      <td>Leatherette Journal</td>\n",
       "      <td>2016</td>\n",
       "      <td>44852.35</td>\n",
       "      <td>404</td>\n",
       "      <td>4563</td>\n",
       "      <td>9.83</td>\n",
       "      <td>11.29</td>\n",
       "      <td>0.0</td>\n",
       "      <td>0.2771</td>\n",
       "      <td>0.0993</td>\n",
       "    </tr>\n",
       "    <tr>\n",
       "      <td>1</td>\n",
       "      <td>Google Metallic Notebook Set</td>\n",
       "      <td>2018</td>\n",
       "      <td>42597.25</td>\n",
       "      <td>437</td>\n",
       "      <td>8435</td>\n",
       "      <td>5.05</td>\n",
       "      <td>19.30</td>\n",
       "      <td>0.0</td>\n",
       "      <td>0.4515</td>\n",
       "      <td>0.1668</td>\n",
       "    </tr>\n",
       "    <tr>\n",
       "      <td>2</td>\n",
       "      <td>Google 22 oz Water Bottle</td>\n",
       "      <td>2017</td>\n",
       "      <td>39068.59</td>\n",
       "      <td>904</td>\n",
       "      <td>14261</td>\n",
       "      <td>2.74</td>\n",
       "      <td>15.78</td>\n",
       "      <td>0.0</td>\n",
       "      <td>0.8210</td>\n",
       "      <td>0.2470</td>\n",
       "    </tr>\n",
       "    <tr>\n",
       "      <td>3</td>\n",
       "      <td>Google Sunglasses</td>\n",
       "      <td>2017</td>\n",
       "      <td>35418.42</td>\n",
       "      <td>1513</td>\n",
       "      <td>11400</td>\n",
       "      <td>3.11</td>\n",
       "      <td>7.53</td>\n",
       "      <td>0.0</td>\n",
       "      <td>0.9958</td>\n",
       "      <td>0.3769</td>\n",
       "    </tr>\n",
       "    <tr>\n",
       "      <td>4</td>\n",
       "      <td>Google Thermal Bottle White</td>\n",
       "      <td>2018</td>\n",
       "      <td>35089.95</td>\n",
       "      <td>470</td>\n",
       "      <td>1725</td>\n",
       "      <td>20.34</td>\n",
       "      <td>3.67</td>\n",
       "      <td>0.0</td>\n",
       "      <td>0.3678</td>\n",
       "      <td>0.0699</td>\n",
       "    </tr>\n",
       "    <tr>\n",
       "      <td>5</td>\n",
       "      <td>Google Men's  Zip Hoodie</td>\n",
       "      <td>2017</td>\n",
       "      <td>35082.66</td>\n",
       "      <td>356</td>\n",
       "      <td>694</td>\n",
       "      <td>50.55</td>\n",
       "      <td>1.95</td>\n",
       "      <td>0.0</td>\n",
       "      <td>0.2907</td>\n",
       "      <td>0.0649</td>\n",
       "    </tr>\n",
       "    <tr>\n",
       "      <td>6</td>\n",
       "      <td>Google Metallic Notebook Set</td>\n",
       "      <td>2017</td>\n",
       "      <td>33534.00</td>\n",
       "      <td>378</td>\n",
       "      <td>6480</td>\n",
       "      <td>5.18</td>\n",
       "      <td>17.14</td>\n",
       "      <td>0.0</td>\n",
       "      <td>0.3907</td>\n",
       "      <td>0.0967</td>\n",
       "    </tr>\n",
       "    <tr>\n",
       "      <td>7</td>\n",
       "      <td>26 oz Double Wall Insulated Bottle</td>\n",
       "      <td>2017</td>\n",
       "      <td>33074.34</td>\n",
       "      <td>408</td>\n",
       "      <td>1566</td>\n",
       "      <td>21.12</td>\n",
       "      <td>3.84</td>\n",
       "      <td>0.0</td>\n",
       "      <td>0.3624</td>\n",
       "      <td>0.0984</td>\n",
       "    </tr>\n",
       "    <tr>\n",
       "      <td>8</td>\n",
       "      <td>Eco-Aware Large Recycled Journal Combo</td>\n",
       "      <td>2016</td>\n",
       "      <td>32658.64</td>\n",
       "      <td>470</td>\n",
       "      <td>9322</td>\n",
       "      <td>3.50</td>\n",
       "      <td>19.83</td>\n",
       "      <td>0.0</td>\n",
       "      <td>0.3323</td>\n",
       "      <td>0.1166</td>\n",
       "    </tr>\n",
       "    <tr>\n",
       "      <td>9</td>\n",
       "      <td>Leatherette Journal</td>\n",
       "      <td>2017</td>\n",
       "      <td>32428.07</td>\n",
       "      <td>220</td>\n",
       "      <td>3733</td>\n",
       "      <td>8.69</td>\n",
       "      <td>16.97</td>\n",
       "      <td>0.0</td>\n",
       "      <td>0.3990</td>\n",
       "      <td>0.1852</td>\n",
       "    </tr>\n",
       "  </tbody>\n",
       "</table>\n",
       "</div>"
      ],
      "text/plain": [
       "                                  Product  Year  Product Revenue  \\\n",
       "0                     Leatherette Journal  2016         44852.35   \n",
       "1            Google Metallic Notebook Set  2018         42597.25   \n",
       "2               Google 22 oz Water Bottle  2017         39068.59   \n",
       "3                       Google Sunglasses  2017         35418.42   \n",
       "4             Google Thermal Bottle White  2018         35089.95   \n",
       "5                Google Men's  Zip Hoodie  2017         35082.66   \n",
       "6            Google Metallic Notebook Set  2017         33534.00   \n",
       "7      26 oz Double Wall Insulated Bottle  2017         33074.34   \n",
       "8  Eco-Aware Large Recycled Journal Combo  2016         32658.64   \n",
       "9                     Leatherette Journal  2017         32428.07   \n",
       "\n",
       "   Unique Purchases  Quantity  Avg. Price  Avg. QTY  Product Refund Amount  \\\n",
       "0               404      4563        9.83     11.29                    0.0   \n",
       "1               437      8435        5.05     19.30                    0.0   \n",
       "2               904     14261        2.74     15.78                    0.0   \n",
       "3              1513     11400        3.11      7.53                    0.0   \n",
       "4               470      1725       20.34      3.67                    0.0   \n",
       "5               356       694       50.55      1.95                    0.0   \n",
       "6               378      6480        5.18     17.14                    0.0   \n",
       "7               408      1566       21.12      3.84                    0.0   \n",
       "8               470      9322        3.50     19.83                    0.0   \n",
       "9               220      3733        8.69     16.97                    0.0   \n",
       "\n",
       "   Cart-to-Detail Rate  Buy-to-Detail Rate  \n",
       "0               0.2771              0.0993  \n",
       "1               0.4515              0.1668  \n",
       "2               0.8210              0.2470  \n",
       "3               0.9958              0.3769  \n",
       "4               0.3678              0.0699  \n",
       "5               0.2907              0.0649  \n",
       "6               0.3907              0.0967  \n",
       "7               0.3624              0.0984  \n",
       "8               0.3323              0.1166  \n",
       "9               0.3990              0.1852  "
      ]
     },
     "execution_count": 20,
     "metadata": {},
     "output_type": "execute_result"
    }
   ],
   "source": [
    "#show head without Nest products\n",
    "df_ex_nest.head(10)"
   ]
  },
  {
   "cell_type": "markdown",
   "metadata": {},
   "source": [
    "- top sellers are now journals, notebooks, water bottles or sun glasses\n",
    "- much lower avg. price now "
   ]
  },
  {
   "cell_type": "markdown",
   "metadata": {},
   "source": [
    "### Plotting values to visualize insights (excluding Nest products)"
   ]
  },
  {
   "cell_type": "markdown",
   "metadata": {},
   "source": [
    "Show relation between quantity and avg. price"
   ]
  },
  {
   "cell_type": "code",
   "execution_count": 21,
   "metadata": {},
   "outputs": [
    {
     "data": {
      "image/png": "[encoded data removed]",
      "text/plain": [
       "<Figure size 432x288 with 1 Axes>"
      ]
     },
     "metadata": {},
     "output_type": "display_data"
    }
   ],
   "source": [
    "ax = sns.regplot(x=\"Avg. Price\", y=\"Quantity\", line_kws={\"color\":\"r\"}, data=df_ex_nest)"
   ]
  },
  {
   "cell_type": "markdown",
   "metadata": {},
   "source": [
    "- majority of products still has a price <50USD\n",
    "- quantity increases with lower avg. price even stronger than before (see regression line)\n",
    "- high priced products are getting sold less than lower priced products"
   ]
  },
  {
   "cell_type": "markdown",
   "metadata": {},
   "source": [
    "**Grouping numerical values by year**"
   ]
  },
  {
   "cell_type": "code",
   "execution_count": 22,
   "metadata": {},
   "outputs": [
    {
     "data": {
      "text/html": [
       "<div>\n",
       "<style scoped>\n",
       "    .dataframe tbody tr th:only-of-type {\n",
       "        vertical-align: middle;\n",
       "    }\n",
       "\n",
       "    .dataframe tbody tr th {\n",
       "        vertical-align: top;\n",
       "    }\n",
       "\n",
       "    .dataframe thead th {\n",
       "        text-align: right;\n",
       "    }\n",
       "</style>\n",
       "<table border=\"1\" class=\"dataframe\">\n",
       "  <thead>\n",
       "    <tr style=\"text-align: right;\">\n",
       "      <th></th>\n",
       "      <th>Year</th>\n",
       "      <th>Product Revenue</th>\n",
       "      <th>Unique Purchases</th>\n",
       "      <th>Quantity</th>\n",
       "      <th>Avg. Price</th>\n",
       "      <th>Avg. QTY</th>\n",
       "      <th>Product Refund Amount</th>\n",
       "      <th>Cart-to-Detail Rate</th>\n",
       "      <th>Buy-to-Detail Rate</th>\n",
       "    </tr>\n",
       "  </thead>\n",
       "  <tbody>\n",
       "    <tr>\n",
       "      <td>0</td>\n",
       "      <td>2014</td>\n",
       "      <td>7122.51</td>\n",
       "      <td>299</td>\n",
       "      <td>968</td>\n",
       "      <td>2651.82</td>\n",
       "      <td>446.88</td>\n",
       "      <td>0.0</td>\n",
       "      <td>5.5485</td>\n",
       "      <td>8.2253</td>\n",
       "    </tr>\n",
       "    <tr>\n",
       "      <td>1</td>\n",
       "      <td>2015</td>\n",
       "      <td>551726.19</td>\n",
       "      <td>16811</td>\n",
       "      <td>71301</td>\n",
       "      <td>9554.26</td>\n",
       "      <td>1418.91</td>\n",
       "      <td>0.0</td>\n",
       "      <td>67.6910</td>\n",
       "      <td>16.0940</td>\n",
       "    </tr>\n",
       "    <tr>\n",
       "      <td>2</td>\n",
       "      <td>2016</td>\n",
       "      <td>1499723.22</td>\n",
       "      <td>41129</td>\n",
       "      <td>224072</td>\n",
       "      <td>17949.64</td>\n",
       "      <td>2639.78</td>\n",
       "      <td>0.0</td>\n",
       "      <td>432.0678</td>\n",
       "      <td>107.6669</td>\n",
       "    </tr>\n",
       "    <tr>\n",
       "      <td>3</td>\n",
       "      <td>2017</td>\n",
       "      <td>1617934.50</td>\n",
       "      <td>37647</td>\n",
       "      <td>227836</td>\n",
       "      <td>8747.90</td>\n",
       "      <td>1947.26</td>\n",
       "      <td>0.0</td>\n",
       "      <td>446.6359</td>\n",
       "      <td>179.0618</td>\n",
       "    </tr>\n",
       "    <tr>\n",
       "      <td>4</td>\n",
       "      <td>2018</td>\n",
       "      <td>1015422.40</td>\n",
       "      <td>25707</td>\n",
       "      <td>110764</td>\n",
       "      <td>6379.34</td>\n",
       "      <td>787.17</td>\n",
       "      <td>0.0</td>\n",
       "      <td>101.0904</td>\n",
       "      <td>29.8117</td>\n",
       "    </tr>\n",
       "    <tr>\n",
       "      <td>5</td>\n",
       "      <td>2019</td>\n",
       "      <td>63334.49</td>\n",
       "      <td>2824</td>\n",
       "      <td>5168</td>\n",
       "      <td>7293.16</td>\n",
       "      <td>559.49</td>\n",
       "      <td>0.0</td>\n",
       "      <td>94.6823</td>\n",
       "      <td>58.9965</td>\n",
       "    </tr>\n",
       "    <tr>\n",
       "      <td>6</td>\n",
       "      <td>2020</td>\n",
       "      <td>8128.35</td>\n",
       "      <td>379</td>\n",
       "      <td>750</td>\n",
       "      <td>3424.59</td>\n",
       "      <td>256.05</td>\n",
       "      <td>0.0</td>\n",
       "      <td>39.4982</td>\n",
       "      <td>4.4700</td>\n",
       "    </tr>\n",
       "  </tbody>\n",
       "</table>\n",
       "</div>"
      ],
      "text/plain": [
       "   Year  Product Revenue  Unique Purchases  Quantity  Avg. Price  Avg. QTY  \\\n",
       "0  2014          7122.51               299       968     2651.82    446.88   \n",
       "1  2015        551726.19             16811     71301     9554.26   1418.91   \n",
       "2  2016       1499723.22             41129    224072    17949.64   2639.78   \n",
       "3  2017       1617934.50             37647    227836     8747.90   1947.26   \n",
       "4  2018       1015422.40             25707    110764     6379.34    787.17   \n",
       "5  2019         63334.49              2824      5168     7293.16    559.49   \n",
       "6  2020          8128.35               379       750     3424.59    256.05   \n",
       "\n",
       "   Product Refund Amount  Cart-to-Detail Rate  Buy-to-Detail Rate  \n",
       "0                    0.0               5.5485              8.2253  \n",
       "1                    0.0              67.6910             16.0940  \n",
       "2                    0.0             432.0678            107.6669  \n",
       "3                    0.0             446.6359            179.0618  \n",
       "4                    0.0             101.0904             29.8117  \n",
       "5                    0.0              94.6823             58.9965  \n",
       "6                    0.0              39.4982              4.4700  "
      ]
     },
     "execution_count": 22,
     "metadata": {},
     "output_type": "execute_result"
    }
   ],
   "source": [
    "df_year_ex_nest = df_ex_nest.groupby(['Year']).sum()\n",
    "df_year_ex_nest = df_year_ex_nest.reset_index() #reset index to make Year a column again\n",
    "df_year_ex_nest"
   ]
  },
  {
   "cell_type": "markdown",
   "metadata": {},
   "source": [
    "- highest revenue in 2017, followed by 2016 and 2018\n",
    "- huge drop of revenue in 2019 even with excluding Nest products\n",
    "- numbers of 2014 very low as only data from October 2014 available"
   ]
  },
  {
   "cell_type": "markdown",
   "metadata": {},
   "source": [
    "**Add number of employees of Alphabet (parent company of Google) to dataframe**\n",
    "\n",
    "Taken from: \n",
    "\n",
    "https://www.statista.com/statistics/273744/number-of-full-time-google-employees/"
   ]
  },
  {
   "cell_type": "code",
   "execution_count": 23,
   "metadata": {},
   "outputs": [],
   "source": [
    "#drop numbers of 2020 as the number of employees not yet available\n",
    "df_year_ex_nest = df_year_ex_nest.drop([6])\n",
    "\n",
    "#add number of employees per year\n",
    "df_year_ex_nest.insert(4, \"Employees\", [53600, 61814, 72503, 88110, 98771, 118899], True)"
   ]
  },
  {
   "cell_type": "code",
   "execution_count": 24,
   "metadata": {},
   "outputs": [
    {
     "data": {
      "text/html": [
       "<div>\n",
       "<style scoped>\n",
       "    .dataframe tbody tr th:only-of-type {\n",
       "        vertical-align: middle;\n",
       "    }\n",
       "\n",
       "    .dataframe tbody tr th {\n",
       "        vertical-align: top;\n",
       "    }\n",
       "\n",
       "    .dataframe thead th {\n",
       "        text-align: right;\n",
       "    }\n",
       "</style>\n",
       "<table border=\"1\" class=\"dataframe\">\n",
       "  <thead>\n",
       "    <tr style=\"text-align: right;\">\n",
       "      <th></th>\n",
       "      <th>Year</th>\n",
       "      <th>Product Revenue</th>\n",
       "      <th>Unique Purchases</th>\n",
       "      <th>Quantity</th>\n",
       "      <th>Employees</th>\n",
       "      <th>Avg. Price</th>\n",
       "      <th>Avg. QTY</th>\n",
       "      <th>Product Refund Amount</th>\n",
       "      <th>Cart-to-Detail Rate</th>\n",
       "      <th>Buy-to-Detail Rate</th>\n",
       "      <th>Revenue per Employee ($)</th>\n",
       "    </tr>\n",
       "  </thead>\n",
       "  <tbody>\n",
       "    <tr>\n",
       "      <td>0</td>\n",
       "      <td>2014</td>\n",
       "      <td>7122.51</td>\n",
       "      <td>299</td>\n",
       "      <td>968</td>\n",
       "      <td>53600</td>\n",
       "      <td>2651.82</td>\n",
       "      <td>446.88</td>\n",
       "      <td>0.0</td>\n",
       "      <td>5.5485</td>\n",
       "      <td>8.2253</td>\n",
       "      <td>0.132883</td>\n",
       "    </tr>\n",
       "    <tr>\n",
       "      <td>1</td>\n",
       "      <td>2015</td>\n",
       "      <td>551726.19</td>\n",
       "      <td>16811</td>\n",
       "      <td>71301</td>\n",
       "      <td>61814</td>\n",
       "      <td>9554.26</td>\n",
       "      <td>1418.91</td>\n",
       "      <td>0.0</td>\n",
       "      <td>67.6910</td>\n",
       "      <td>16.0940</td>\n",
       "      <td>8.925586</td>\n",
       "    </tr>\n",
       "    <tr>\n",
       "      <td>2</td>\n",
       "      <td>2016</td>\n",
       "      <td>1499723.22</td>\n",
       "      <td>41129</td>\n",
       "      <td>224072</td>\n",
       "      <td>72503</td>\n",
       "      <td>17949.64</td>\n",
       "      <td>2639.78</td>\n",
       "      <td>0.0</td>\n",
       "      <td>432.0678</td>\n",
       "      <td>107.6669</td>\n",
       "      <td>20.684982</td>\n",
       "    </tr>\n",
       "    <tr>\n",
       "      <td>3</td>\n",
       "      <td>2017</td>\n",
       "      <td>1617934.50</td>\n",
       "      <td>37647</td>\n",
       "      <td>227836</td>\n",
       "      <td>88110</td>\n",
       "      <td>8747.90</td>\n",
       "      <td>1947.26</td>\n",
       "      <td>0.0</td>\n",
       "      <td>446.6359</td>\n",
       "      <td>179.0618</td>\n",
       "      <td>18.362666</td>\n",
       "    </tr>\n",
       "    <tr>\n",
       "      <td>4</td>\n",
       "      <td>2018</td>\n",
       "      <td>1015422.40</td>\n",
       "      <td>25707</td>\n",
       "      <td>110764</td>\n",
       "      <td>98771</td>\n",
       "      <td>6379.34</td>\n",
       "      <td>787.17</td>\n",
       "      <td>0.0</td>\n",
       "      <td>101.0904</td>\n",
       "      <td>29.8117</td>\n",
       "      <td>10.280572</td>\n",
       "    </tr>\n",
       "    <tr>\n",
       "      <td>5</td>\n",
       "      <td>2019</td>\n",
       "      <td>63334.49</td>\n",
       "      <td>2824</td>\n",
       "      <td>5168</td>\n",
       "      <td>118899</td>\n",
       "      <td>7293.16</td>\n",
       "      <td>559.49</td>\n",
       "      <td>0.0</td>\n",
       "      <td>94.6823</td>\n",
       "      <td>58.9965</td>\n",
       "      <td>0.532675</td>\n",
       "    </tr>\n",
       "  </tbody>\n",
       "</table>\n",
       "</div>"
      ],
      "text/plain": [
       "   Year  Product Revenue  Unique Purchases  Quantity  Employees  Avg. Price  \\\n",
       "0  2014          7122.51               299       968      53600     2651.82   \n",
       "1  2015        551726.19             16811     71301      61814     9554.26   \n",
       "2  2016       1499723.22             41129    224072      72503    17949.64   \n",
       "3  2017       1617934.50             37647    227836      88110     8747.90   \n",
       "4  2018       1015422.40             25707    110764      98771     6379.34   \n",
       "5  2019         63334.49              2824      5168     118899     7293.16   \n",
       "\n",
       "   Avg. QTY  Product Refund Amount  Cart-to-Detail Rate  Buy-to-Detail Rate  \\\n",
       "0    446.88                    0.0               5.5485              8.2253   \n",
       "1   1418.91                    0.0              67.6910             16.0940   \n",
       "2   2639.78                    0.0             432.0678            107.6669   \n",
       "3   1947.26                    0.0             446.6359            179.0618   \n",
       "4    787.17                    0.0             101.0904             29.8117   \n",
       "5    559.49                    0.0              94.6823             58.9965   \n",
       "\n",
       "   Revenue per Employee ($)  \n",
       "0                  0.132883  \n",
       "1                  8.925586  \n",
       "2                 20.684982  \n",
       "3                 18.362666  \n",
       "4                 10.280572  \n",
       "5                  0.532675  "
      ]
     },
     "execution_count": 24,
     "metadata": {},
     "output_type": "execute_result"
    }
   ],
   "source": [
    "#calculate revenue per employee for all years\n",
    "df_year_ex_nest[\"Revenue per Employee ($)\"] = df_year_ex_nest[\"Product Revenue\"] / df_year_ex_nest[\"Employees\"]\n",
    "df_year_ex_nest"
   ]
  },
  {
   "cell_type": "markdown",
   "metadata": {},
   "source": [
    "**Plot product revenue and revenue per employee per year**"
   ]
  },
  {
   "cell_type": "code",
   "execution_count": 25,
   "metadata": {},
   "outputs": [
    {
     "data": {
      "image/png": "[encoded data removed]",
      "text/plain": [
       "<Figure size 432x288 with 1 Axes>"
      ]
     },
     "metadata": {},
     "output_type": "display_data"
    },
    {
     "data": {
      "image/png": "[encoded data removed]",
      "text/plain": [
       "<Figure size 360x360 with 1 Axes>"
      ]
     },
     "metadata": {},
     "output_type": "display_data"
    }
   ],
   "source": [
    "#set style of plot\n",
    "#sns.set(style=\"whitegrid\")\n",
    "sns.set_style(\"ticks\") \n",
    "\n",
    "#product revenue per year\n",
    "ax = sns.barplot(x=\"Year\", y=\"Product Revenue\", data=df_year_ex_nest)\n",
    "\n",
    "#revenue per employee per year\n",
    "g = sns.relplot(x=\"Year\", y=\"Revenue per Employee ($)\", kind=\"line\", data=df_year_ex_nest)"
   ]
  },
  {
   "cell_type": "markdown",
   "metadata": {},
   "source": [
    "- similar picture also when excluding Nest products\n",
    "- strongest year 2017, followed by 2016 and 2018 (total revenue)\n",
    "- revenue per year from 2016-2018 closer together when excluding Nest products\n",
    "- 2016 strongest year for revenue per employee\n",
    "- since 2016 downward trend with regards to revenue generated per employee, sharp decrease from 2017 on\n"
   ]
  },
  {
   "cell_type": "markdown",
   "metadata": {},
   "source": [
    "**Check of number of unique purchases (=orders) and quantity (=number of products sold)**"
   ]
  },
  {
   "cell_type": "code",
   "execution_count": 26,
   "metadata": {},
   "outputs": [
    {
     "data": {
      "image/png": "[encoded data removed]",
      "text/plain": [
       "<Figure size 432x288 with 1 Axes>"
      ]
     },
     "metadata": {},
     "output_type": "display_data"
    }
   ],
   "source": [
    "ax = sns.barplot(x=\"Year\", y=\"Unique Purchases\", data=df_year_ex_nest)"
   ]
  },
  {
   "cell_type": "code",
   "execution_count": 27,
   "metadata": {},
   "outputs": [
    {
     "data": {
      "image/png": "[encoded data removed]",
      "text/plain": [
       "<Figure size 432x288 with 1 Axes>"
      ]
     },
     "metadata": {},
     "output_type": "display_data"
    }
   ],
   "source": [
    "ax = sns.barplot(x=\"Year\", y=\"Quantity\", data=df_year_ex_nest)"
   ]
  },
  {
   "cell_type": "markdown",
   "metadata": {},
   "source": [
    "- both graph show similar picture as for revenue but the differences in absolute numbers are not as huge as for revenue\n",
    "- the number of products per order decreased from 2018 on --> smaller basket size"
   ]
  },
  {
   "cell_type": "markdown",
   "metadata": {},
   "source": [
    "**Export *.csv to work with it in Tableau**"
   ]
  },
  {
   "cell_type": "code",
   "execution_count": 28,
   "metadata": {},
   "outputs": [],
   "source": [
    "df_year_ex_nest.to_csv(\"revenue_year_employees_ex_nest.csv\")"
   ]
  },
  {
   "cell_type": "markdown",
   "metadata": {},
   "source": [
    "# Conclusions"
   ]
  },
  {
   "cell_type": "markdown",
   "metadata": {},
   "source": [
    "**- hugh ramp up of employees in Google from 2014 on**\n",
    "\n",
    "**- interest in Google store/brand identification is high**\n",
    "\n",
    "**- decreasing interest in Google Merchandise Store since 2017**\n",
    "\n",
    "**- revenue per Google employee also decreasing since 2017 and showing less intentions to buy --> implying less identification with Google brand**"
   ]
  }
 ],
 "metadata": {
  "kernelspec": {
   "display_name": "Python 3",
   "language": "python",
   "name": "python3"
  },
  "language_info": {
   "codemirror_mode": {
    "name": "ipython",
    "version": 3
   },
   "file_extension": ".py",
   "mimetype": "text/x-python",
   "name": "python",
   "nbconvert_exporter": "python",
   "pygments_lexer": "ipython3",
   "version": "3.7.4"
  }
 },
 "nbformat": 4,
 "nbformat_minor": 2
}
