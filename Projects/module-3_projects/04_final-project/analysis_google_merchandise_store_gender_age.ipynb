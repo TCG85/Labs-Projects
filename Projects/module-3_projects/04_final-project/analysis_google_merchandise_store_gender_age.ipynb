{
 "cells": [
  {
   "cell_type": "markdown",
   "metadata": {},
   "source": [
    "## Analysis of Google Merchandise Store - Demographics (Gender, Age)\n",
    "\n",
    " - Who is the audience of the Google Merchandise Store?\n",
    " - How is the split between male/female?\n",
    " - How does this split compare to the distribution of Google employees worldwide from 2014 to 2019, by gender?\n",
    " - Who are the customers with regards to the age and sex?"
   ]
  },
  {
   "cell_type": "markdown",
   "metadata": {},
   "source": [
    "**Import libraries**"
   ]
  },
  {
   "cell_type": "code",
   "execution_count": 1,
   "metadata": {},
   "outputs": [],
   "source": [
    "import pandas as pd # Pandas for data manipulation and analysis\n",
    "import matplotlib.pyplot as plt # Matplotlib for drawing plots in Python\n",
    "import seaborn as sns # Seaborn is a Python data visualization library based on matplotlib"
   ]
  },
  {
   "cell_type": "markdown",
   "metadata": {},
   "source": [
    "**Read *csv**\n",
    "\n",
    "Downloaded from:\n",
    "\n",
    "https://analytics.google.com/analytics/web/#/savedreport/D-Xezi6rRW-0nhPOlRVW7Q/a54516992w87479473p92320289/_u.date00=20141001&_u.date01=20200229&_.advseg=&_.useg=&_.sectionId=&_.gSectionId=16312&_r.dsa=1&16311-table.secSegmentId=analytics.gender&16311-table.plotKeys=%5B%5D&16311-table.rowCount=500&16311-graphMode.mode=lineChart&16311-graphOptions.compareConcept=analytics.revenuePerTransaction/"
   ]
  },
  {
   "cell_type": "code",
   "execution_count": 2,
   "metadata": {},
   "outputs": [],
   "source": [
    "df=pd.read_csv('Demographics_ Age_Gender_20141001-20200229.csv', skiprows=5, skipfooter=1982, engine='python')"
   ]
  },
  {
   "cell_type": "markdown",
   "metadata": {},
   "source": [
    "**Show number of lines/columns of data frame**"
   ]
  },
  {
   "cell_type": "code",
   "execution_count": 3,
   "metadata": {},
   "outputs": [
    {
     "data": {
      "text/plain": [
       "(12, 12)"
      ]
     },
     "execution_count": 3,
     "metadata": {},
     "output_type": "execute_result"
    }
   ],
   "source": [
    "df.shape"
   ]
  },
  {
   "cell_type": "markdown",
   "metadata": {},
   "source": [
    "**Show head and tail**"
   ]
  },
  {
   "cell_type": "code",
   "execution_count": 4,
   "metadata": {},
   "outputs": [
    {
     "data": {
      "text/html": [
       "<div>\n",
       "<style scoped>\n",
       "    .dataframe tbody tr th:only-of-type {\n",
       "        vertical-align: middle;\n",
       "    }\n",
       "\n",
       "    .dataframe tbody tr th {\n",
       "        vertical-align: top;\n",
       "    }\n",
       "\n",
       "    .dataframe thead th {\n",
       "        text-align: right;\n",
       "    }\n",
       "</style>\n",
       "<table border=\"1\" class=\"dataframe\">\n",
       "  <thead>\n",
       "    <tr style=\"text-align: right;\">\n",
       "      <th></th>\n",
       "      <th>Age</th>\n",
       "      <th>Gender</th>\n",
       "      <th>Users</th>\n",
       "      <th>New Users</th>\n",
       "      <th>Sessions</th>\n",
       "      <th>Bounce Rate</th>\n",
       "      <th>Pages / Session</th>\n",
       "      <th>Avg. Session Duration</th>\n",
       "      <th>Transactions</th>\n",
       "      <th>Revenue</th>\n",
       "      <th>Ecommerce Conversion Rate</th>\n",
       "      <th>Goal Conversion Rate</th>\n",
       "    </tr>\n",
       "  </thead>\n",
       "  <tbody>\n",
       "    <tr>\n",
       "      <td>0</td>\n",
       "      <td>25-34</td>\n",
       "      <td>male</td>\n",
       "      <td>482,345</td>\n",
       "      <td>452,492</td>\n",
       "      <td>652,534</td>\n",
       "      <td>41.00%</td>\n",
       "      <td>5.30</td>\n",
       "      <td>00:02:48</td>\n",
       "      <td>12,222</td>\n",
       "      <td>$1,933,359.76</td>\n",
       "      <td>1.87%</td>\n",
       "      <td>25.74%</td>\n",
       "    </tr>\n",
       "    <tr>\n",
       "      <td>1</td>\n",
       "      <td>18-24</td>\n",
       "      <td>male</td>\n",
       "      <td>311,710</td>\n",
       "      <td>298,265</td>\n",
       "      <td>385,927</td>\n",
       "      <td>46.43%</td>\n",
       "      <td>4.42</td>\n",
       "      <td>00:02:17</td>\n",
       "      <td>3,366</td>\n",
       "      <td>$345,071.89</td>\n",
       "      <td>0.87%</td>\n",
       "      <td>18.38%</td>\n",
       "    </tr>\n",
       "    <tr>\n",
       "      <td>2</td>\n",
       "      <td>35-44</td>\n",
       "      <td>male</td>\n",
       "      <td>260,897</td>\n",
       "      <td>247,069</td>\n",
       "      <td>366,554</td>\n",
       "      <td>39.39%</td>\n",
       "      <td>5.50</td>\n",
       "      <td>00:02:57</td>\n",
       "      <td>10,060</td>\n",
       "      <td>$1,718,103.43</td>\n",
       "      <td>2.74%</td>\n",
       "      <td>29.12%</td>\n",
       "    </tr>\n",
       "    <tr>\n",
       "      <td>3</td>\n",
       "      <td>25-34</td>\n",
       "      <td>female</td>\n",
       "      <td>209,810</td>\n",
       "      <td>196,366</td>\n",
       "      <td>294,480</td>\n",
       "      <td>41.93%</td>\n",
       "      <td>5.43</td>\n",
       "      <td>00:03:12</td>\n",
       "      <td>7,114</td>\n",
       "      <td>$1,313,512.44</td>\n",
       "      <td>2.42%</td>\n",
       "      <td>26.93%</td>\n",
       "    </tr>\n",
       "    <tr>\n",
       "      <td>4</td>\n",
       "      <td>18-24</td>\n",
       "      <td>female</td>\n",
       "      <td>140,928</td>\n",
       "      <td>133,969</td>\n",
       "      <td>178,169</td>\n",
       "      <td>49.86%</td>\n",
       "      <td>4.05</td>\n",
       "      <td>00:02:23</td>\n",
       "      <td>1,624</td>\n",
       "      <td>$200,667.86</td>\n",
       "      <td>0.91%</td>\n",
       "      <td>16.71%</td>\n",
       "    </tr>\n",
       "  </tbody>\n",
       "</table>\n",
       "</div>"
      ],
      "text/plain": [
       "     Age  Gender    Users New Users Sessions Bounce Rate  Pages / Session  \\\n",
       "0  25-34    male  482,345   452,492  652,534      41.00%             5.30   \n",
       "1  18-24    male  311,710   298,265  385,927      46.43%             4.42   \n",
       "2  35-44    male  260,897   247,069  366,554      39.39%             5.50   \n",
       "3  25-34  female  209,810   196,366  294,480      41.93%             5.43   \n",
       "4  18-24  female  140,928   133,969  178,169      49.86%             4.05   \n",
       "\n",
       "  Avg. Session Duration Transactions        Revenue Ecommerce Conversion Rate  \\\n",
       "0              00:02:48       12,222  $1,933,359.76                     1.87%   \n",
       "1              00:02:17        3,366    $345,071.89                     0.87%   \n",
       "2              00:02:57       10,060  $1,718,103.43                     2.74%   \n",
       "3              00:03:12        7,114  $1,313,512.44                     2.42%   \n",
       "4              00:02:23        1,624    $200,667.86                     0.91%   \n",
       "\n",
       "  Goal Conversion Rate  \n",
       "0               25.74%  \n",
       "1               18.38%  \n",
       "2               29.12%  \n",
       "3               26.93%  \n",
       "4               16.71%  "
      ]
     },
     "execution_count": 4,
     "metadata": {},
     "output_type": "execute_result"
    }
   ],
   "source": [
    "df.head(5)"
   ]
  },
  {
   "cell_type": "code",
   "execution_count": 5,
   "metadata": {},
   "outputs": [
    {
     "data": {
      "text/html": [
       "<div>\n",
       "<style scoped>\n",
       "    .dataframe tbody tr th:only-of-type {\n",
       "        vertical-align: middle;\n",
       "    }\n",
       "\n",
       "    .dataframe tbody tr th {\n",
       "        vertical-align: top;\n",
       "    }\n",
       "\n",
       "    .dataframe thead th {\n",
       "        text-align: right;\n",
       "    }\n",
       "</style>\n",
       "<table border=\"1\" class=\"dataframe\">\n",
       "  <thead>\n",
       "    <tr style=\"text-align: right;\">\n",
       "      <th></th>\n",
       "      <th>Age</th>\n",
       "      <th>Gender</th>\n",
       "      <th>Users</th>\n",
       "      <th>New Users</th>\n",
       "      <th>Sessions</th>\n",
       "      <th>Bounce Rate</th>\n",
       "      <th>Pages / Session</th>\n",
       "      <th>Avg. Session Duration</th>\n",
       "      <th>Transactions</th>\n",
       "      <th>Revenue</th>\n",
       "      <th>Ecommerce Conversion Rate</th>\n",
       "      <th>Goal Conversion Rate</th>\n",
       "    </tr>\n",
       "  </thead>\n",
       "  <tbody>\n",
       "    <tr>\n",
       "      <td>7</td>\n",
       "      <td>55-64</td>\n",
       "      <td>male</td>\n",
       "      <td>46,207</td>\n",
       "      <td>44,009</td>\n",
       "      <td>55,410</td>\n",
       "      <td>49.42%</td>\n",
       "      <td>4.10</td>\n",
       "      <td>00:02:09</td>\n",
       "      <td>675</td>\n",
       "      <td>$81,556.50</td>\n",
       "      <td>1.22%</td>\n",
       "      <td>18.34%</td>\n",
       "    </tr>\n",
       "    <tr>\n",
       "      <td>8</td>\n",
       "      <td>45-54</td>\n",
       "      <td>female</td>\n",
       "      <td>43,206</td>\n",
       "      <td>41,300</td>\n",
       "      <td>55,401</td>\n",
       "      <td>46.94%</td>\n",
       "      <td>5.08</td>\n",
       "      <td>00:02:57</td>\n",
       "      <td>775</td>\n",
       "      <td>$103,495.22</td>\n",
       "      <td>1.40%</td>\n",
       "      <td>23.59%</td>\n",
       "    </tr>\n",
       "    <tr>\n",
       "      <td>9</td>\n",
       "      <td>65+</td>\n",
       "      <td>male</td>\n",
       "      <td>35,572</td>\n",
       "      <td>33,976</td>\n",
       "      <td>40,625</td>\n",
       "      <td>56.76%</td>\n",
       "      <td>3.22</td>\n",
       "      <td>00:01:44</td>\n",
       "      <td>228</td>\n",
       "      <td>$38,038.44</td>\n",
       "      <td>0.56%</td>\n",
       "      <td>11.47%</td>\n",
       "    </tr>\n",
       "    <tr>\n",
       "      <td>10</td>\n",
       "      <td>55-64</td>\n",
       "      <td>female</td>\n",
       "      <td>25,074</td>\n",
       "      <td>24,171</td>\n",
       "      <td>31,549</td>\n",
       "      <td>53.57%</td>\n",
       "      <td>4.34</td>\n",
       "      <td>00:02:15</td>\n",
       "      <td>265</td>\n",
       "      <td>$20,473.97</td>\n",
       "      <td>0.84%</td>\n",
       "      <td>17.90%</td>\n",
       "    </tr>\n",
       "    <tr>\n",
       "      <td>11</td>\n",
       "      <td>65+</td>\n",
       "      <td>female</td>\n",
       "      <td>16,044</td>\n",
       "      <td>15,478</td>\n",
       "      <td>19,191</td>\n",
       "      <td>58.98%</td>\n",
       "      <td>3.15</td>\n",
       "      <td>00:01:37</td>\n",
       "      <td>146</td>\n",
       "      <td>$23,917.51</td>\n",
       "      <td>0.76%</td>\n",
       "      <td>11.74%</td>\n",
       "    </tr>\n",
       "  </tbody>\n",
       "</table>\n",
       "</div>"
      ],
      "text/plain": [
       "      Age  Gender   Users New Users Sessions Bounce Rate  Pages / Session  \\\n",
       "7   55-64    male  46,207    44,009   55,410      49.42%             4.10   \n",
       "8   45-54  female  43,206    41,300   55,401      46.94%             5.08   \n",
       "9     65+    male  35,572    33,976   40,625      56.76%             3.22   \n",
       "10  55-64  female  25,074    24,171   31,549      53.57%             4.34   \n",
       "11    65+  female  16,044    15,478   19,191      58.98%             3.15   \n",
       "\n",
       "   Avg. Session Duration Transactions      Revenue Ecommerce Conversion Rate  \\\n",
       "7               00:02:09          675   $81,556.50                     1.22%   \n",
       "8               00:02:57          775  $103,495.22                     1.40%   \n",
       "9               00:01:44          228   $38,038.44                     0.56%   \n",
       "10              00:02:15          265   $20,473.97                     0.84%   \n",
       "11              00:01:37          146   $23,917.51                     0.76%   \n",
       "\n",
       "   Goal Conversion Rate  \n",
       "7                18.34%  \n",
       "8                23.59%  \n",
       "9                11.47%  \n",
       "10               17.90%  \n",
       "11               11.74%  "
      ]
     },
     "execution_count": 5,
     "metadata": {},
     "output_type": "execute_result"
    }
   ],
   "source": [
    "df.tail(5)\n",
    "#to check that all lines are included"
   ]
  },
  {
   "cell_type": "markdown",
   "metadata": {},
   "source": [
    "**Show data types**"
   ]
  },
  {
   "cell_type": "code",
   "execution_count": 6,
   "metadata": {},
   "outputs": [
    {
     "data": {
      "text/plain": [
       "Age                           object\n",
       "Gender                        object\n",
       "Users                         object\n",
       "New Users                     object\n",
       "Sessions                      object\n",
       "Bounce Rate                   object\n",
       "Pages / Session              float64\n",
       "Avg. Session Duration         object\n",
       "Transactions                  object\n",
       "Revenue                       object\n",
       "Ecommerce Conversion Rate     object\n",
       "Goal Conversion Rate          object\n",
       "dtype: object"
      ]
     },
     "execution_count": 6,
     "metadata": {},
     "output_type": "execute_result"
    }
   ],
   "source": [
    "df.dtypes"
   ]
  },
  {
   "cell_type": "markdown",
   "metadata": {},
   "source": [
    "**Cleaning columns/changing data types**"
   ]
  },
  {
   "cell_type": "code",
   "execution_count": 7,
   "metadata": {},
   "outputs": [],
   "source": [
    "#cleaning columns to prepare for changing types\n",
    "\n",
    "df['Users']=df['Users'].str.replace(\",\",\"\")\n",
    "df['New Users']=df['New Users'].str.replace(\",\",\"\")\n",
    "df['Sessions']=df['Sessions'].str.replace(\",\",\"\")\n",
    "df['Revenue']=df['Revenue'].str.replace(\",\",\"\")\n",
    "df['Revenue']=df['Revenue'].str.replace(\"$\",\"\")\n",
    "df['Transactions']=df['Transactions'].str.replace(\",\",\"\")\n",
    "\n",
    "#cleaning columns + changing data type\n",
    "df['Bounce Rate'] = df['Bounce Rate'].str.rstrip('%').astype('float') / 100.0\n",
    "df['Ecommerce Conversion Rate'] = df['Ecommerce Conversion Rate'].str.rstrip('%').astype('float') / 100.0\n",
    "df['Goal Conversion Rate'] = df['Goal Conversion Rate'].str.rstrip('%').astype('float') / 100.0"
   ]
  },
  {
   "cell_type": "code",
   "execution_count": 8,
   "metadata": {},
   "outputs": [],
   "source": [
    "#changing types of columns\n",
    "\n",
    "df[\"Users\"] = df[\"Users\"].astype(int)\n",
    "df[\"New Users\"] = df[\"New Users\"].astype(int)\n",
    "df[\"Sessions\"] = df[\"Sessions\"].astype(int)\n",
    "df[\"Revenue\"] = df[\"Revenue\"].astype(float)\n",
    "df['Transactions'] = df['Transactions'].astype(float)\n",
    "\n",
    "#Ignore:\n",
    "#df[\"Avg. Session Duration\"] = pd.to_timedelta(df[\"Avg. Session Duration\"])\n",
    "#df[\"Avg. Session Duration\"] = df[\"Avg. Session Duration\"].apply(lambda x: pd.to_datetime(str(x), format='%H:%M:%S))"
   ]
  },
  {
   "cell_type": "code",
   "execution_count": 9,
   "metadata": {},
   "outputs": [
    {
     "data": {
      "text/plain": [
       "Age                           object\n",
       "Gender                        object\n",
       "Users                          int64\n",
       "New Users                      int64\n",
       "Sessions                       int64\n",
       "Bounce Rate                  float64\n",
       "Pages / Session              float64\n",
       "Avg. Session Duration         object\n",
       "Transactions                 float64\n",
       "Revenue                      float64\n",
       "Ecommerce Conversion Rate    float64\n",
       "Goal Conversion Rate         float64\n",
       "dtype: object"
      ]
     },
     "execution_count": 9,
     "metadata": {},
     "output_type": "execute_result"
    }
   ],
   "source": [
    "#check updated data types\n",
    "\n",
    "df.dtypes"
   ]
  },
  {
   "cell_type": "markdown",
   "metadata": {},
   "source": [
    "**Show updated head of DataFrame**"
   ]
  },
  {
   "cell_type": "code",
   "execution_count": 10,
   "metadata": {},
   "outputs": [
    {
     "data": {
      "text/html": [
       "<div>\n",
       "<style scoped>\n",
       "    .dataframe tbody tr th:only-of-type {\n",
       "        vertical-align: middle;\n",
       "    }\n",
       "\n",
       "    .dataframe tbody tr th {\n",
       "        vertical-align: top;\n",
       "    }\n",
       "\n",
       "    .dataframe thead th {\n",
       "        text-align: right;\n",
       "    }\n",
       "</style>\n",
       "<table border=\"1\" class=\"dataframe\">\n",
       "  <thead>\n",
       "    <tr style=\"text-align: right;\">\n",
       "      <th></th>\n",
       "      <th>Age</th>\n",
       "      <th>Gender</th>\n",
       "      <th>Users</th>\n",
       "      <th>New Users</th>\n",
       "      <th>Sessions</th>\n",
       "      <th>Bounce Rate</th>\n",
       "      <th>Pages / Session</th>\n",
       "      <th>Avg. Session Duration</th>\n",
       "      <th>Transactions</th>\n",
       "      <th>Revenue</th>\n",
       "      <th>Ecommerce Conversion Rate</th>\n",
       "      <th>Goal Conversion Rate</th>\n",
       "    </tr>\n",
       "  </thead>\n",
       "  <tbody>\n",
       "    <tr>\n",
       "      <td>0</td>\n",
       "      <td>25-34</td>\n",
       "      <td>male</td>\n",
       "      <td>482345</td>\n",
       "      <td>452492</td>\n",
       "      <td>652534</td>\n",
       "      <td>0.4100</td>\n",
       "      <td>5.30</td>\n",
       "      <td>00:02:48</td>\n",
       "      <td>12222.0</td>\n",
       "      <td>1933359.76</td>\n",
       "      <td>0.0187</td>\n",
       "      <td>0.2574</td>\n",
       "    </tr>\n",
       "    <tr>\n",
       "      <td>1</td>\n",
       "      <td>18-24</td>\n",
       "      <td>male</td>\n",
       "      <td>311710</td>\n",
       "      <td>298265</td>\n",
       "      <td>385927</td>\n",
       "      <td>0.4643</td>\n",
       "      <td>4.42</td>\n",
       "      <td>00:02:17</td>\n",
       "      <td>3366.0</td>\n",
       "      <td>345071.89</td>\n",
       "      <td>0.0087</td>\n",
       "      <td>0.1838</td>\n",
       "    </tr>\n",
       "    <tr>\n",
       "      <td>2</td>\n",
       "      <td>35-44</td>\n",
       "      <td>male</td>\n",
       "      <td>260897</td>\n",
       "      <td>247069</td>\n",
       "      <td>366554</td>\n",
       "      <td>0.3939</td>\n",
       "      <td>5.50</td>\n",
       "      <td>00:02:57</td>\n",
       "      <td>10060.0</td>\n",
       "      <td>1718103.43</td>\n",
       "      <td>0.0274</td>\n",
       "      <td>0.2912</td>\n",
       "    </tr>\n",
       "    <tr>\n",
       "      <td>3</td>\n",
       "      <td>25-34</td>\n",
       "      <td>female</td>\n",
       "      <td>209810</td>\n",
       "      <td>196366</td>\n",
       "      <td>294480</td>\n",
       "      <td>0.4193</td>\n",
       "      <td>5.43</td>\n",
       "      <td>00:03:12</td>\n",
       "      <td>7114.0</td>\n",
       "      <td>1313512.44</td>\n",
       "      <td>0.0242</td>\n",
       "      <td>0.2693</td>\n",
       "    </tr>\n",
       "    <tr>\n",
       "      <td>4</td>\n",
       "      <td>18-24</td>\n",
       "      <td>female</td>\n",
       "      <td>140928</td>\n",
       "      <td>133969</td>\n",
       "      <td>178169</td>\n",
       "      <td>0.4986</td>\n",
       "      <td>4.05</td>\n",
       "      <td>00:02:23</td>\n",
       "      <td>1624.0</td>\n",
       "      <td>200667.86</td>\n",
       "      <td>0.0091</td>\n",
       "      <td>0.1671</td>\n",
       "    </tr>\n",
       "    <tr>\n",
       "      <td>5</td>\n",
       "      <td>45-54</td>\n",
       "      <td>male</td>\n",
       "      <td>106871</td>\n",
       "      <td>99747</td>\n",
       "      <td>136331</td>\n",
       "      <td>0.4370</td>\n",
       "      <td>4.98</td>\n",
       "      <td>00:02:31</td>\n",
       "      <td>2882.0</td>\n",
       "      <td>432043.43</td>\n",
       "      <td>0.0211</td>\n",
       "      <td>0.2390</td>\n",
       "    </tr>\n",
       "    <tr>\n",
       "      <td>6</td>\n",
       "      <td>35-44</td>\n",
       "      <td>female</td>\n",
       "      <td>89741</td>\n",
       "      <td>84697</td>\n",
       "      <td>125851</td>\n",
       "      <td>0.4311</td>\n",
       "      <td>5.49</td>\n",
       "      <td>00:03:08</td>\n",
       "      <td>3238.0</td>\n",
       "      <td>729248.65</td>\n",
       "      <td>0.0257</td>\n",
       "      <td>0.2859</td>\n",
       "    </tr>\n",
       "    <tr>\n",
       "      <td>7</td>\n",
       "      <td>55-64</td>\n",
       "      <td>male</td>\n",
       "      <td>46207</td>\n",
       "      <td>44009</td>\n",
       "      <td>55410</td>\n",
       "      <td>0.4942</td>\n",
       "      <td>4.10</td>\n",
       "      <td>00:02:09</td>\n",
       "      <td>675.0</td>\n",
       "      <td>81556.50</td>\n",
       "      <td>0.0122</td>\n",
       "      <td>0.1834</td>\n",
       "    </tr>\n",
       "    <tr>\n",
       "      <td>8</td>\n",
       "      <td>45-54</td>\n",
       "      <td>female</td>\n",
       "      <td>43206</td>\n",
       "      <td>41300</td>\n",
       "      <td>55401</td>\n",
       "      <td>0.4694</td>\n",
       "      <td>5.08</td>\n",
       "      <td>00:02:57</td>\n",
       "      <td>775.0</td>\n",
       "      <td>103495.22</td>\n",
       "      <td>0.0140</td>\n",
       "      <td>0.2359</td>\n",
       "    </tr>\n",
       "    <tr>\n",
       "      <td>9</td>\n",
       "      <td>65+</td>\n",
       "      <td>male</td>\n",
       "      <td>35572</td>\n",
       "      <td>33976</td>\n",
       "      <td>40625</td>\n",
       "      <td>0.5676</td>\n",
       "      <td>3.22</td>\n",
       "      <td>00:01:44</td>\n",
       "      <td>228.0</td>\n",
       "      <td>38038.44</td>\n",
       "      <td>0.0056</td>\n",
       "      <td>0.1147</td>\n",
       "    </tr>\n",
       "    <tr>\n",
       "      <td>10</td>\n",
       "      <td>55-64</td>\n",
       "      <td>female</td>\n",
       "      <td>25074</td>\n",
       "      <td>24171</td>\n",
       "      <td>31549</td>\n",
       "      <td>0.5357</td>\n",
       "      <td>4.34</td>\n",
       "      <td>00:02:15</td>\n",
       "      <td>265.0</td>\n",
       "      <td>20473.97</td>\n",
       "      <td>0.0084</td>\n",
       "      <td>0.1790</td>\n",
       "    </tr>\n",
       "    <tr>\n",
       "      <td>11</td>\n",
       "      <td>65+</td>\n",
       "      <td>female</td>\n",
       "      <td>16044</td>\n",
       "      <td>15478</td>\n",
       "      <td>19191</td>\n",
       "      <td>0.5898</td>\n",
       "      <td>3.15</td>\n",
       "      <td>00:01:37</td>\n",
       "      <td>146.0</td>\n",
       "      <td>23917.51</td>\n",
       "      <td>0.0076</td>\n",
       "      <td>0.1174</td>\n",
       "    </tr>\n",
       "  </tbody>\n",
       "</table>\n",
       "</div>"
      ],
      "text/plain": [
       "      Age  Gender   Users  New Users  Sessions  Bounce Rate  Pages / Session  \\\n",
       "0   25-34    male  482345     452492    652534       0.4100             5.30   \n",
       "1   18-24    male  311710     298265    385927       0.4643             4.42   \n",
       "2   35-44    male  260897     247069    366554       0.3939             5.50   \n",
       "3   25-34  female  209810     196366    294480       0.4193             5.43   \n",
       "4   18-24  female  140928     133969    178169       0.4986             4.05   \n",
       "5   45-54    male  106871      99747    136331       0.4370             4.98   \n",
       "6   35-44  female   89741      84697    125851       0.4311             5.49   \n",
       "7   55-64    male   46207      44009     55410       0.4942             4.10   \n",
       "8   45-54  female   43206      41300     55401       0.4694             5.08   \n",
       "9     65+    male   35572      33976     40625       0.5676             3.22   \n",
       "10  55-64  female   25074      24171     31549       0.5357             4.34   \n",
       "11    65+  female   16044      15478     19191       0.5898             3.15   \n",
       "\n",
       "   Avg. Session Duration  Transactions     Revenue  Ecommerce Conversion Rate  \\\n",
       "0               00:02:48       12222.0  1933359.76                     0.0187   \n",
       "1               00:02:17        3366.0   345071.89                     0.0087   \n",
       "2               00:02:57       10060.0  1718103.43                     0.0274   \n",
       "3               00:03:12        7114.0  1313512.44                     0.0242   \n",
       "4               00:02:23        1624.0   200667.86                     0.0091   \n",
       "5               00:02:31        2882.0   432043.43                     0.0211   \n",
       "6               00:03:08        3238.0   729248.65                     0.0257   \n",
       "7               00:02:09         675.0    81556.50                     0.0122   \n",
       "8               00:02:57         775.0   103495.22                     0.0140   \n",
       "9               00:01:44         228.0    38038.44                     0.0056   \n",
       "10              00:02:15         265.0    20473.97                     0.0084   \n",
       "11              00:01:37         146.0    23917.51                     0.0076   \n",
       "\n",
       "    Goal Conversion Rate  \n",
       "0                 0.2574  \n",
       "1                 0.1838  \n",
       "2                 0.2912  \n",
       "3                 0.2693  \n",
       "4                 0.1671  \n",
       "5                 0.2390  \n",
       "6                 0.2859  \n",
       "7                 0.1834  \n",
       "8                 0.2359  \n",
       "9                 0.1147  \n",
       "10                0.1790  \n",
       "11                0.1174  "
      ]
     },
     "execution_count": 10,
     "metadata": {},
     "output_type": "execute_result"
    }
   ],
   "source": [
    "df.head(12)"
   ]
  },
  {
   "cell_type": "markdown",
   "metadata": {},
   "source": [
    "**Compute a summary of statistics pertaining to the numerical DataFrame columns**"
   ]
  },
  {
   "cell_type": "code",
   "execution_count": 11,
   "metadata": {},
   "outputs": [
    {
     "data": {
      "text/html": [
       "<div>\n",
       "<style scoped>\n",
       "    .dataframe tbody tr th:only-of-type {\n",
       "        vertical-align: middle;\n",
       "    }\n",
       "\n",
       "    .dataframe tbody tr th {\n",
       "        vertical-align: top;\n",
       "    }\n",
       "\n",
       "    .dataframe thead th {\n",
       "        text-align: right;\n",
       "    }\n",
       "</style>\n",
       "<table border=\"1\" class=\"dataframe\">\n",
       "  <thead>\n",
       "    <tr style=\"text-align: right;\">\n",
       "      <th></th>\n",
       "      <th>Users</th>\n",
       "      <th>New Users</th>\n",
       "      <th>Sessions</th>\n",
       "      <th>Bounce Rate</th>\n",
       "      <th>Pages / Session</th>\n",
       "      <th>Transactions</th>\n",
       "      <th>Revenue</th>\n",
       "      <th>Ecommerce Conversion Rate</th>\n",
       "      <th>Goal Conversion Rate</th>\n",
       "    </tr>\n",
       "  </thead>\n",
       "  <tbody>\n",
       "    <tr>\n",
       "      <td>count</td>\n",
       "      <td>12.000000</td>\n",
       "      <td>12.000000</td>\n",
       "      <td>12.000000</td>\n",
       "      <td>12.000000</td>\n",
       "      <td>12.000000</td>\n",
       "      <td>12.000000</td>\n",
       "      <td>1.200000e+01</td>\n",
       "      <td>12.000000</td>\n",
       "      <td>12.000000</td>\n",
       "    </tr>\n",
       "    <tr>\n",
       "      <td>mean</td>\n",
       "      <td>147367.083333</td>\n",
       "      <td>139294.916667</td>\n",
       "      <td>195168.500000</td>\n",
       "      <td>0.475908</td>\n",
       "      <td>4.588333</td>\n",
       "      <td>3549.583333</td>\n",
       "      <td>5.782908e+05</td>\n",
       "      <td>0.015225</td>\n",
       "      <td>0.210342</td>\n",
       "    </tr>\n",
       "    <tr>\n",
       "      <td>std</td>\n",
       "      <td>143587.636724</td>\n",
       "      <td>135233.208152</td>\n",
       "      <td>194013.595312</td>\n",
       "      <td>0.063084</td>\n",
       "      <td>0.842807</td>\n",
       "      <td>4089.377069</td>\n",
       "      <td>6.941077e+05</td>\n",
       "      <td>0.007823</td>\n",
       "      <td>0.061408</td>\n",
       "    </tr>\n",
       "    <tr>\n",
       "      <td>min</td>\n",
       "      <td>16044.000000</td>\n",
       "      <td>15478.000000</td>\n",
       "      <td>19191.000000</td>\n",
       "      <td>0.393900</td>\n",
       "      <td>3.150000</td>\n",
       "      <td>146.000000</td>\n",
       "      <td>2.047397e+04</td>\n",
       "      <td>0.005600</td>\n",
       "      <td>0.114700</td>\n",
       "    </tr>\n",
       "    <tr>\n",
       "      <td>25%</td>\n",
       "      <td>41297.500000</td>\n",
       "      <td>39469.000000</td>\n",
       "      <td>51707.000000</td>\n",
       "      <td>0.428150</td>\n",
       "      <td>4.087500</td>\n",
       "      <td>572.500000</td>\n",
       "      <td>7.067699e+04</td>\n",
       "      <td>0.008625</td>\n",
       "      <td>0.176025</td>\n",
       "    </tr>\n",
       "    <tr>\n",
       "      <td>50%</td>\n",
       "      <td>98306.000000</td>\n",
       "      <td>92222.000000</td>\n",
       "      <td>131091.000000</td>\n",
       "      <td>0.466850</td>\n",
       "      <td>4.700000</td>\n",
       "      <td>2253.000000</td>\n",
       "      <td>2.728699e+05</td>\n",
       "      <td>0.013100</td>\n",
       "      <td>0.209850</td>\n",
       "    </tr>\n",
       "    <tr>\n",
       "      <td>75%</td>\n",
       "      <td>222581.750000</td>\n",
       "      <td>209041.750000</td>\n",
       "      <td>312498.500000</td>\n",
       "      <td>0.507875</td>\n",
       "      <td>5.332500</td>\n",
       "      <td>4303.000000</td>\n",
       "      <td>8.753146e+05</td>\n",
       "      <td>0.021875</td>\n",
       "      <td>0.260375</td>\n",
       "    </tr>\n",
       "    <tr>\n",
       "      <td>max</td>\n",
       "      <td>482345.000000</td>\n",
       "      <td>452492.000000</td>\n",
       "      <td>652534.000000</td>\n",
       "      <td>0.589800</td>\n",
       "      <td>5.500000</td>\n",
       "      <td>12222.000000</td>\n",
       "      <td>1.933360e+06</td>\n",
       "      <td>0.027400</td>\n",
       "      <td>0.291200</td>\n",
       "    </tr>\n",
       "  </tbody>\n",
       "</table>\n",
       "</div>"
      ],
      "text/plain": [
       "               Users      New Users       Sessions  Bounce Rate  \\\n",
       "count      12.000000      12.000000      12.000000    12.000000   \n",
       "mean   147367.083333  139294.916667  195168.500000     0.475908   \n",
       "std    143587.636724  135233.208152  194013.595312     0.063084   \n",
       "min     16044.000000   15478.000000   19191.000000     0.393900   \n",
       "25%     41297.500000   39469.000000   51707.000000     0.428150   \n",
       "50%     98306.000000   92222.000000  131091.000000     0.466850   \n",
       "75%    222581.750000  209041.750000  312498.500000     0.507875   \n",
       "max    482345.000000  452492.000000  652534.000000     0.589800   \n",
       "\n",
       "       Pages / Session  Transactions       Revenue  Ecommerce Conversion Rate  \\\n",
       "count        12.000000     12.000000  1.200000e+01                  12.000000   \n",
       "mean          4.588333   3549.583333  5.782908e+05                   0.015225   \n",
       "std           0.842807   4089.377069  6.941077e+05                   0.007823   \n",
       "min           3.150000    146.000000  2.047397e+04                   0.005600   \n",
       "25%           4.087500    572.500000  7.067699e+04                   0.008625   \n",
       "50%           4.700000   2253.000000  2.728699e+05                   0.013100   \n",
       "75%           5.332500   4303.000000  8.753146e+05                   0.021875   \n",
       "max           5.500000  12222.000000  1.933360e+06                   0.027400   \n",
       "\n",
       "       Goal Conversion Rate  \n",
       "count             12.000000  \n",
       "mean               0.210342  \n",
       "std                0.061408  \n",
       "min                0.114700  \n",
       "25%                0.176025  \n",
       "50%                0.209850  \n",
       "75%                0.260375  \n",
       "max                0.291200  "
      ]
     },
     "execution_count": 11,
     "metadata": {},
     "output_type": "execute_result"
    }
   ],
   "source": [
    "df.describe()"
   ]
  },
  {
   "cell_type": "markdown",
   "metadata": {},
   "source": [
    "## Check split male-female"
   ]
  },
  {
   "cell_type": "code",
   "execution_count": 12,
   "metadata": {},
   "outputs": [
    {
     "data": {
      "text/html": [
       "<div>\n",
       "<style scoped>\n",
       "    .dataframe tbody tr th:only-of-type {\n",
       "        vertical-align: middle;\n",
       "    }\n",
       "\n",
       "    .dataframe tbody tr th {\n",
       "        vertical-align: top;\n",
       "    }\n",
       "\n",
       "    .dataframe thead th {\n",
       "        text-align: right;\n",
       "    }\n",
       "</style>\n",
       "<table border=\"1\" class=\"dataframe\">\n",
       "  <thead>\n",
       "    <tr style=\"text-align: right;\">\n",
       "      <th></th>\n",
       "      <th>Users</th>\n",
       "      <th>New Users</th>\n",
       "      <th>Sessions</th>\n",
       "      <th>Bounce Rate</th>\n",
       "      <th>Pages / Session</th>\n",
       "      <th>Transactions</th>\n",
       "      <th>Revenue</th>\n",
       "      <th>Ecommerce Conversion Rate</th>\n",
       "      <th>Goal Conversion Rate</th>\n",
       "    </tr>\n",
       "    <tr>\n",
       "      <th>Gender</th>\n",
       "      <th></th>\n",
       "      <th></th>\n",
       "      <th></th>\n",
       "      <th></th>\n",
       "      <th></th>\n",
       "      <th></th>\n",
       "      <th></th>\n",
       "      <th></th>\n",
       "      <th></th>\n",
       "    </tr>\n",
       "  </thead>\n",
       "  <tbody>\n",
       "    <tr>\n",
       "      <td>female</td>\n",
       "      <td>524803</td>\n",
       "      <td>495981</td>\n",
       "      <td>704641</td>\n",
       "      <td>2.9439</td>\n",
       "      <td>27.54</td>\n",
       "      <td>13162.0</td>\n",
       "      <td>2391315.65</td>\n",
       "      <td>0.0890</td>\n",
       "      <td>1.2546</td>\n",
       "    </tr>\n",
       "    <tr>\n",
       "      <td>male</td>\n",
       "      <td>1243602</td>\n",
       "      <td>1175558</td>\n",
       "      <td>1637381</td>\n",
       "      <td>2.7670</td>\n",
       "      <td>27.52</td>\n",
       "      <td>29433.0</td>\n",
       "      <td>4548173.45</td>\n",
       "      <td>0.0937</td>\n",
       "      <td>1.2695</td>\n",
       "    </tr>\n",
       "  </tbody>\n",
       "</table>\n",
       "</div>"
      ],
      "text/plain": [
       "          Users  New Users  Sessions  Bounce Rate  Pages / Session  \\\n",
       "Gender                                                               \n",
       "female   524803     495981    704641       2.9439            27.54   \n",
       "male    1243602    1175558   1637381       2.7670            27.52   \n",
       "\n",
       "        Transactions     Revenue  Ecommerce Conversion Rate  \\\n",
       "Gender                                                        \n",
       "female       13162.0  2391315.65                     0.0890   \n",
       "male         29433.0  4548173.45                     0.0937   \n",
       "\n",
       "        Goal Conversion Rate  \n",
       "Gender                        \n",
       "female                1.2546  \n",
       "male                  1.2695  "
      ]
     },
     "execution_count": 12,
     "metadata": {},
     "output_type": "execute_result"
    }
   ],
   "source": [
    "#show split in total numbers\n",
    "df.groupby(['Gender']).sum()"
   ]
  },
  {
   "cell_type": "code",
   "execution_count": 13,
   "metadata": {},
   "outputs": [],
   "source": [
    "#Adding columns with percentage of numercial values of total\n",
    "\n",
    "df['% Users Total'] = (df['Users']/df['Users'].sum())\n",
    "\n",
    "df['% New Users Total'] = (df['New Users']/df['New Users'].sum())\n",
    "\n",
    "df['% Sessions Total'] = (df['Sessions']/df['Sessions'].sum())\n",
    "\n",
    "df['% Transactions Total'] = (df['Transactions']/df['Transactions'].sum())\n",
    "\n",
    "df['% Revenue Total'] = (df['Revenue']/df['Revenue'].sum())"
   ]
  },
  {
   "cell_type": "code",
   "execution_count": 14,
   "metadata": {
    "scrolled": true
   },
   "outputs": [
    {
     "data": {
      "text/html": [
       "<div>\n",
       "<style scoped>\n",
       "    .dataframe tbody tr th:only-of-type {\n",
       "        vertical-align: middle;\n",
       "    }\n",
       "\n",
       "    .dataframe tbody tr th {\n",
       "        vertical-align: top;\n",
       "    }\n",
       "\n",
       "    .dataframe thead th {\n",
       "        text-align: right;\n",
       "    }\n",
       "</style>\n",
       "<table border=\"1\" class=\"dataframe\">\n",
       "  <thead>\n",
       "    <tr style=\"text-align: right;\">\n",
       "      <th></th>\n",
       "      <th>% Users Total</th>\n",
       "      <th>% New Users Total</th>\n",
       "      <th>% Sessions Total</th>\n",
       "      <th>% Transactions Total</th>\n",
       "      <th>% Revenue Total</th>\n",
       "    </tr>\n",
       "    <tr>\n",
       "      <th>Gender</th>\n",
       "      <th></th>\n",
       "      <th></th>\n",
       "      <th></th>\n",
       "      <th></th>\n",
       "      <th></th>\n",
       "    </tr>\n",
       "  </thead>\n",
       "  <tbody>\n",
       "    <tr>\n",
       "      <td>female</td>\n",
       "      <td>0.296766</td>\n",
       "      <td>0.296721</td>\n",
       "      <td>0.300869</td>\n",
       "      <td>0.309003</td>\n",
       "      <td>0.344595</td>\n",
       "    </tr>\n",
       "    <tr>\n",
       "      <td>male</td>\n",
       "      <td>0.703234</td>\n",
       "      <td>0.703279</td>\n",
       "      <td>0.699131</td>\n",
       "      <td>0.690997</td>\n",
       "      <td>0.655405</td>\n",
       "    </tr>\n",
       "  </tbody>\n",
       "</table>\n",
       "</div>"
      ],
      "text/plain": [
       "        % Users Total  % New Users Total  % Sessions Total  \\\n",
       "Gender                                                       \n",
       "female       0.296766           0.296721          0.300869   \n",
       "male         0.703234           0.703279          0.699131   \n",
       "\n",
       "        % Transactions Total  % Revenue Total  \n",
       "Gender                                         \n",
       "female              0.309003         0.344595  \n",
       "male                0.690997         0.655405  "
      ]
     },
     "execution_count": 14,
     "metadata": {},
     "output_type": "execute_result"
    }
   ],
   "source": [
    "#show split in percentage\n",
    "df.groupby(['Gender'])['% Users Total','% New Users Total', '% Sessions Total', '% Transactions Total', '% Revenue Total'].sum()"
   ]
  },
  {
   "cell_type": "markdown",
   "metadata": {},
   "source": [
    "- Over all categories, the split is roughly 70% male vs. 30% female\n",
    "- Only in revenue, female users generate on average more revenue\n",
    "\n",
    "- Compared to the employee split of Alphabet/Google, the numbers are on the same level\n",
    "\n",
    "See: https://www.statista.com/statistics/311800/google-employee-gender-global/"
   ]
  },
  {
   "cell_type": "markdown",
   "metadata": {},
   "source": [
    "## Plotting values, split by gender and age group"
   ]
  },
  {
   "cell_type": "code",
   "execution_count": 15,
   "metadata": {},
   "outputs": [
    {
     "data": {
      "image/png": "[encoded data removed]",
      "text/plain": [
       "<Figure size 640x400 with 1 Axes>"
      ]
     },
     "metadata": {
      "needs_background": "light"
     },
     "output_type": "display_data"
    }
   ],
   "source": [
    "#modifying session values to be negative for females (see chart below)\n",
    "df['Users'] = df.apply(lambda row: row['Users'] * -1 if row['Gender'] == 'female' else row['Users'], axis=1)\n",
    "# Draw Plot\n",
    "plt.figure(figsize=(8,5), dpi= 80)\n",
    "group_col = 'Gender'\n",
    "#sort by column \"age\"\n",
    "df = df.sort_values(by ='Age')\n",
    "order_of_bars = df.Age.unique()[::-1]\n",
    "colors = [plt.cm.Spectral(i/float(len(df[group_col].unique())-1)) for i in range(len(df[group_col].unique()))]\n",
    "for c, group in zip(colors, df[group_col].unique()):\n",
    "    sns.barplot(x='Users', y='Age', data=df.loc[df[group_col]==group, :], order=order_of_bars, color=c, label=group)\n",
    "# Decorations    \n",
    "plt.xlabel(\"$Users$\")\n",
    "plt.ylabel(\"Age\")\n",
    "plt.yticks(fontsize=12)\n",
    "plt.title(\"Users split by age and sex\", fontsize=16)\n",
    "plt.legend()\n",
    "plt.show()"
   ]
  },
  {
   "cell_type": "markdown",
   "metadata": {},
   "source": [
    "- In total more male users than female users\n",
    "- for both male and female users, age group 25-34 has most users\n",
    "    - Strongest age groups for female users are 25-34 followed by 18-24 years\n",
    "    - Strongest age groups for male users are 25-34 followed by 18-24 years as well "
   ]
  },
  {
   "cell_type": "markdown",
   "metadata": {},
   "source": [
    "**Analysis of sessions**"
   ]
  },
  {
   "cell_type": "code",
   "execution_count": 16,
   "metadata": {},
   "outputs": [
    {
     "data": {
      "image/png": "[encoded data removed]",
      "text/plain": [
       "<Figure size 640x400 with 1 Axes>"
      ]
     },
     "metadata": {
      "needs_background": "light"
     },
     "output_type": "display_data"
    }
   ],
   "source": [
    "#modifying session values to be negative for females (see chart below)\n",
    "df['Sessions'] = df.apply(lambda row: row['Sessions'] * -1 if row['Gender'] == 'female' else row['Sessions'], axis=1)\n",
    "# Draw Plot\n",
    "plt.figure(figsize=(8,5), dpi= 80)\n",
    "group_col = 'Gender'\n",
    "#sort by column \"age\"\n",
    "df = df.sort_values(by ='Age')\n",
    "order_of_bars = df.Age.unique()[::-1]\n",
    "colors = [plt.cm.Spectral(i/float(len(df[group_col].unique())-1)) for i in range(len(df[group_col].unique()))]\n",
    "for c, group in zip(colors, df[group_col].unique()):\n",
    "    sns.barplot(x='Sessions', y='Age', data=df.loc[df[group_col]==group, :], order=order_of_bars, color=c, label=group)\n",
    "# Decorations    \n",
    "plt.xlabel(\"$Sessions$\")\n",
    "plt.ylabel(\"Age\")\n",
    "plt.yticks(fontsize=12)\n",
    "plt.title(\"Sessions of website visitors\", fontsize=16)\n",
    "plt.legend()\n",
    "plt.show()"
   ]
  },
  {
   "cell_type": "markdown",
   "metadata": {},
   "source": [
    "- In total more sessions by male users than female users\n",
    "- for both male and female users, age group 25-34 has most sessions\n",
    "- Strongest age groups for female users are 25-34 followed by 18-24 years\n",
    "- Strongest age groups for male users are 25-34 followed by 18-24 years as well but that age group is only slightly higher than the 35-44 year old male users whereas for female users this age group has a higher drop compared to 18-24 years\n"
   ]
  },
  {
   "cell_type": "code",
   "execution_count": 17,
   "metadata": {},
   "outputs": [
    {
     "data": {
      "image/png": "[encoded data removed]",
      "text/plain": [
       "<Figure size 640x400 with 1 Axes>"
      ]
     },
     "metadata": {
      "needs_background": "light"
     },
     "output_type": "display_data"
    }
   ],
   "source": [
    "#modifying session values to be negative for females (see chart below)\n",
    "df['Transactions'] = df.apply(lambda row: row['Transactions'] * -1 if row['Gender'] == 'female' else row['Transactions'], axis=1)\n",
    "# Draw Plot\n",
    "plt.figure(figsize=(8,5), dpi= 80)\n",
    "group_col = 'Gender'\n",
    "#sort by column \"age\"\n",
    "df = df.sort_values(by ='Age')\n",
    "order_of_bars = df.Age.unique()[::-1]\n",
    "colors = [plt.cm.Spectral(i/float(len(df[group_col].unique())-1)) for i in range(len(df[group_col].unique()))]\n",
    "for c, group in zip(colors, df[group_col].unique()):\n",
    "    sns.barplot(x='Transactions', y='Age', data=df.loc[df[group_col]==group, :], order=order_of_bars, color=c, label=group)\n",
    "# Decorations    \n",
    "plt.xlabel(\"$Transactions$\")\n",
    "plt.ylabel(\"Age\")\n",
    "plt.yticks(fontsize=12)\n",
    "plt.title(\"Transactions of website visitors\", fontsize=16)\n",
    "plt.legend()\n",
    "plt.show()"
   ]
  },
  {
   "cell_type": "markdown",
   "metadata": {},
   "source": [
    "- In total more transactions by male users than female users\n",
    "- for both male and female users, age group 25-34 has most transactions\n",
    "- Strongest age groups for female users are 25-34 followed by 35-44 years\n",
    "- Strongest age groups for male users are 25-34 followed by 35-44 years as well \n",
    "- Compared to sessions, the second strongest age group for sessions (18-24), has now by far much less transactions\n",
    "- This implies that those users are visiting the website but are not buying"
   ]
  },
  {
   "cell_type": "code",
   "execution_count": 18,
   "metadata": {},
   "outputs": [
    {
     "data": {
      "image/png": "[encoded data removed]",
      "text/plain": [
       "<Figure size 640x400 with 1 Axes>"
      ]
     },
     "metadata": {
      "needs_background": "light"
     },
     "output_type": "display_data"
    }
   ],
   "source": [
    "#modifying session values to be negative for females (see chart below)\n",
    "df['Revenue'] = df.apply(lambda row: row['Revenue'] * -1 if row['Gender'] == 'female' else row['Revenue'], axis=1)\n",
    "# Draw Plot\n",
    "plt.figure(figsize=(8,5), dpi= 80)\n",
    "group_col = 'Gender'\n",
    "#sort by column \"age\"\n",
    "df = df.sort_values(by ='Age')\n",
    "order_of_bars = df.Age.unique()[::-1]\n",
    "colors = [plt.cm.Spectral(i/float(len(df[group_col].unique())-1)) for i in range(len(df[group_col].unique()))]\n",
    "for c, group in zip(colors, df[group_col].unique()):\n",
    "    sns.barplot(x='Revenue', y='Age', data=df.loc[df[group_col]==group, :], order=order_of_bars, color=c, label=group)\n",
    "# Decorations    \n",
    "plt.xlabel(\"$Revenue$\")\n",
    "plt.ylabel(\"Age\")\n",
    "plt.yticks(fontsize=12)\n",
    "plt.title(\"Revenue ($) generated by website visitors\", fontsize=16)\n",
    "plt.legend()\n",
    "plt.show()"
   ]
  },
  {
   "cell_type": "markdown",
   "metadata": {},
   "source": [
    "- Similar picture as for transactions\n",
    "- In total more revenue generated by male users than female users\n",
    "- for both male and female users, age group 25-34 generates most revenue\n",
    "    - Strongest age groups for female users are 25-34 followed by 35-44 years\n",
    "    - Strongest age groups for male users are 25-34 followed by 35-44 years as well but for male these groups are quite close whereas for female users there is a higher gap\n",
    "- As there is an even higher drop in the generated revenue by the age group 18-24 compared to the drop of number of transactions as seen above, this proves that the 18-24 years old buy less/have less average spending\n",
    "- The buyers are working employees, no students"
   ]
  },
  {
   "cell_type": "markdown",
   "metadata": {},
   "source": [
    "**Change the manipulated values (=negative values) of columns Users, Sessions, Transactions, Revenue back to positive values only**"
   ]
  },
  {
   "cell_type": "code",
   "execution_count": 19,
   "metadata": {},
   "outputs": [],
   "source": [
    "df['Users'] = df.apply(lambda row: row['Users'] * -1 if row['Gender'] == 'female' else row['Users'], axis=1)\n",
    "df['Sessions'] = df.apply(lambda row: row['Sessions'] * -1 if row['Gender'] == 'female' else row['Sessions'], axis=1)\n",
    "df['Transactions'] = df.apply(lambda row: row['Transactions'] * -1 if row['Gender'] == 'female' else row['Transactions'], axis=1)\n",
    "df['Revenue'] = df.apply(lambda row: row['Revenue'] * -1 if row['Gender'] == 'female' else row['Revenue'], axis=1)"
   ]
  },
  {
   "cell_type": "markdown",
   "metadata": {},
   "source": [
    "**Export as *.csv**"
   ]
  },
  {
   "cell_type": "code",
   "execution_count": 20,
   "metadata": {},
   "outputs": [],
   "source": [
    "df.to_csv(\"google_merchandise_store_gender_age_clean.csv\")"
   ]
  },
  {
   "cell_type": "markdown",
   "metadata": {},
   "source": [
    "# Conclusions"
   ]
  },
  {
   "cell_type": "markdown",
   "metadata": {},
   "source": [
    "**- Split of users (male vs. female) is same split as the gender split in Google**\n",
    "\n",
    "**- Most users visiting the Google Merchandise Store and generating revenue are 25 - 44 years old**\n",
    "\n",
    "**- This implies that those users are from working class, no students** \n",
    "\n",
    "**--> Based on the same split as the distribution of Google employees worldwide by gender and the fact that the buyers of products in the store are older than 25 years old, we can assume that those persons are Google employees**"
   ]
  }
 ],
 "metadata": {
  "kernelspec": {
   "display_name": "Python 3",
   "language": "python",
   "name": "python3"
  },
  "language_info": {
   "codemirror_mode": {
    "name": "ipython",
    "version": 3
   },
   "file_extension": ".py",
   "mimetype": "text/x-python",
   "name": "python",
   "nbconvert_exporter": "python",
   "pygments_lexer": "ipython3",
   "version": "3.7.4"
  }
 },
 "nbformat": 4,
 "nbformat_minor": 2
}
