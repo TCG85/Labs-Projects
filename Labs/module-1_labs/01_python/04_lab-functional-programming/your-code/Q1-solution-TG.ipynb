{
 "cells": [
  {
   "cell_type": "markdown",
   "metadata": {},
   "source": [
    "In the cell below, create a Python function that wraps your previous solution for the Bag of Words lab.\n",
    "\n",
    "Requirements:\n",
    "\n",
    "1. Your function should accept the following parameters:\n",
    "    * `docs` [REQUIRED] - array of document paths.\n",
    "    * `stop_words` [OPTIONAL] - array of stop words. The default value is an empty array.\n",
    "\n",
    "1. Your function should return a Python object that contains the following:\n",
    "    * `bag_of_words` - array of strings of normalized unique words in the corpus.\n",
    "    * `term_freq` - array of the term-frequency vectors."
   ]
  },
  {
   "cell_type": "code",
   "execution_count": 62,
   "metadata": {},
   "outputs": [],
   "source": [
    "# Import required libraries\n",
    "from string import punctuation\n",
    "\n",
    "# Define function\n",
    "def get_bow_from_docs(docs, stop_words=[]):\n",
    "    \n",
    "    # In the function, first define the variables you will use such as `corpus`, `bag_of_words`, and `term_freq`.\n",
    "    corpus = []\n",
    "    bag_of_words = []\n",
    "    term_freq = []\n",
    "    \n",
    "    \n",
    "    \"\"\"\n",
    "    Loop `docs` and read the content of each doc into a string in `corpus`.\n",
    "    Remember to convert the doc content to lowercases and remove punctuation.\n",
    "    \"\"\"\n",
    "    for doc in docs:\n",
    "        f = open(doc, 'r')\n",
    "        s = f.read()\n",
    "        s = ''.join(c for c in s if c not in punctuation)\n",
    "        corpus.append(s.lower())\n",
    "        f.close()\n",
    "    \n",
    "    \"\"\"\n",
    "    Loop `corpus`. Append the terms in each doc into the `bag_of_words` array. The terms in `bag_of_words` \n",
    "    should be unique which means before adding each term you need to check if it's already added to the array.\n",
    "    In addition, check if each term is in the `stop_words` array. Only append the term to `bag_of_words`\n",
    "    if it is not a stop word.\n",
    "    \"\"\"\n",
    "\n",
    "    for string in corpus:\n",
    "        terms = string.split()\n",
    "        for term in terms:\n",
    "            if not term in bag_of_words and not term in stop_words:\n",
    "                bag_of_words.append(term)   \n",
    "    \n",
    "    \n",
    "    \"\"\"\n",
    "    Loop `corpus` again. For each doc string, count the number of occurrences of each term in `bag_of_words`. \n",
    "    Create an array for each doc's term frequency and append it to `term_freq`.\n",
    "    \"\"\"\n",
    "    for string in corpus:\n",
    "        freq = []\n",
    "        terms = string.split()\n",
    "        for word in bag_of_words:\n",
    "                freq.append(terms.count(word))\n",
    "        term_freq.append(freq)\n",
    "    \n",
    "    \n",
    "    # Now return your output as an object\n",
    "    return {\n",
    "        \"bag_of_words\": bag_of_words,\n",
    "        \"term_freq\": term_freq\n",
    "    }\n",
    "    "
   ]
  },
  {
   "cell_type": "markdown",
   "metadata": {},
   "source": [
    "Test your function without stop words. You should see the output like below:\n",
    "\n",
    "```{'bag_of_words': ['ironhack', 'is', 'cool', 'i', 'love', 'am', 'a', 'student', 'at'], 'term_freq': [[1, 1, 1, 0, 0, 0, 0, 0, 0], [1, 0, 0, 1, 1, 0, 0, 0, 0], [1, 0, 0, 1, 0, 1, 1, 1, 1]]}```"
   ]
  },
  {
   "cell_type": "code",
   "execution_count": 63,
   "metadata": {},
   "outputs": [
    {
     "name": "stdout",
     "output_type": "stream",
     "text": [
      "{'bag_of_words': ['ironhack', 'is', 'cool', 'i', 'love', 'am', 'a', 'student', 'at'], 'term_freq': [[1, 1, 1, 0, 0, 0, 0, 0, 0], [1, 0, 0, 1, 1, 0, 0, 0, 0], [1, 0, 0, 1, 0, 1, 1, 1, 1]]}\n"
     ]
    }
   ],
   "source": [
    "# Define doc paths array\n",
    "docs = [\n",
    "    '../../03_lab-string-operations/your-code/doc1.txt', \n",
    "    '../../03_lab-string-operations/your-code/doc2.txt', \n",
    "    '../../03_lab-string-operations/your-code/doc3.txt']\n",
    "\n",
    "# Obtain BoW from your function\n",
    "bow = get_bow_from_docs(docs)\n",
    "\n",
    "# Print BoW\n",
    "print(bow)"
   ]
  },
  {
   "cell_type": "markdown",
   "metadata": {},
   "source": [
    "If your attempt above is successful, nice work done!\n",
    "\n",
    "Now test your function again with the stop words. In the previous lab we defined the stop words in a large array. In this lab, we'll import the stop words from Scikit-Learn."
   ]
  },
  {
   "cell_type": "code",
   "execution_count": 64,
   "metadata": {},
   "outputs": [
    {
     "name": "stdout",
     "output_type": "stream",
     "text": [
      "frozenset({'itself', 'under', 'yourself', 'one', 'is', 'get', 'between', 'otherwise', 'eight', 'towards', 'either', 'except', 'which', 'more', 'fifteen', 'should', 'not', 'nothing', 'enough', 'mostly', 'done', 'themselves', 'at', 'up', 'there', 'seemed', 'them', 'without', 'everything', 'moreover', 'through', 'former', 'over', 'within', 'among', 'only', 'however', 'fill', 'in', 'hereafter', 'may', 'no', 'serious', 'also', 'whence', 'him', 'together', 'much', 'whose', 'afterwards', 'nine', 'an', 'due', 'anyhow', 'meanwhile', 'some', 'everyone', 'nobody', 'being', 'whole', 'then', 'see', 'four', 'part', 'she', 'sometime', 'back', 'eg', 'us', 'about', 'whatever', 'empty', 'inc', 'most', 'next', 'five', 'give', 'but', 'been', 'last', 'who', 'too', 'he', 'our', 'below', 'becomes', 'alone', 'move', 'her', 'someone', 'call', 'are', 'go', 'well', 'thereby', 'if', 'so', 'hers', 'as', 'becoming', 'nowhere', 'with', 'around', 'during', 'i', 'once', 'seem', 'your', 'and', 'their', 'less', 'be', 'on', 'neither', 'twenty', 'two', 'ie', 'yourselves', 'latter', 'again', 'herein', 'thick', 'yours', 'its', 'else', 'beforehand', 'those', 'for', 'hereupon', 'cry', 'whereafter', 'amoungst', 'across', 'system', 'least', 'made', 'to', 'ten', 'since', 'formerly', 'all', 'twelve', 'very', 'behind', 'sometimes', 'these', 'whereas', 'could', 'interest', 'although', 'myself', 'whoever', 'upon', 'from', 'seeming', 'therefore', 'had', 'describe', 'hereby', 'herself', 'onto', 'others', 'nor', 'besides', 'find', 'fifty', 'off', 'forty', 'noone', 'of', 'ever', 'own', 'or', 'whenever', 'found', 'a', 'amongst', 'than', 'whereby', 'you', 'hence', 'until', 'must', 'hundred', 'have', 'everywhere', 'often', 'even', 'has', 'because', 'never', 'what', 'please', 'can', 'cant', 'my', 'down', 'his', 'perhaps', 'anyway', 'why', 'above', 'bottom', 'thus', 'rather', 'put', 'indeed', 'thereafter', 'would', 'wherein', 'few', 'co', 'beyond', 'always', 'full', 'the', 'anyone', 'anywhere', 'am', 'de', 'somewhere', 'beside', 'become', 'amount', 'thence', 'thereupon', 'do', 'bill', 'top', 'fire', 'already', 'that', 'many', 'it', 'against', 'any', 'thin', 'whom', 'therein', 'latterly', 'each', 'first', 'hasnt', 'me', 'somehow', 'after', 'here', 'same', 'every', 'something', 'mine', 'keep', 'via', 'into', 'were', 'where', 'throughout', 'was', 're', 'toward', 'ourselves', 'wherever', 'while', 'un', 'now', 'front', 'con', 'whereupon', 'how', 'nevertheless', 'this', 'mill', 'side', 'name', 'elsewhere', 'whether', 'sincere', 'became', 'cannot', 'show', 'before', 'several', 'per', 'they', 'take', 'will', 'third', 'we', 'etc', 'along', 'namely', 'eleven', 'detail', 'almost', 'couldnt', 'three', 'ltd', 'other', 'whither', 'further', 'both', 'another', 'ours', 'such', 'seems', 'sixty', 'none', 'out', 'might', 'by', 'yet', 'though', 'anything', 'still', 'himself', 'when', 'six', 'thru'})\n"
     ]
    }
   ],
   "source": [
    "from sklearn.feature_extraction import stop_words\n",
    "print(stop_words.ENGLISH_STOP_WORDS)"
   ]
  },
  {
   "cell_type": "markdown",
   "metadata": {},
   "source": [
    "You should have seen a large list of words that looks like:\n",
    "\n",
    "```frozenset({'across', 'mine', 'cannot', ...})```\n",
    "\n",
    "`frozenset` is a type of Python object that is immutable. In this lab you can use it just like an array without conversion."
   ]
  },
  {
   "cell_type": "markdown",
   "metadata": {},
   "source": [
    "Next, test your function with supplying `stop_words.ENGLISH_STOP_WORDS` as the second parameter."
   ]
  },
  {
   "cell_type": "code",
   "execution_count": 66,
   "metadata": {},
   "outputs": [
    {
     "name": "stdout",
     "output_type": "stream",
     "text": [
      "{'bag_of_words': ['ironhack', 'cool', 'love', 'student'], 'term_freq': [[1, 1, 0, 0], [1, 0, 1, 0], [1, 0, 0, 1]]}\n"
     ]
    }
   ],
   "source": [
    "bow = get_bow_from_docs(docs, stop_words.ENGLISH_STOP_WORDS)\n",
    "\n",
    "print(bow)"
   ]
  },
  {
   "cell_type": "markdown",
   "metadata": {},
   "source": [
    "You should have seen:\n",
    "\n",
    "```{'bag_of_words': ['ironhack', 'cool', 'love', 'student'], 'term_freq': [[1, 1, 0, 0], [1, 0, 1, 0], [1, 0, 0, 1]]}```"
   ]
  }
 ],
 "metadata": {
  "kernelspec": {
   "display_name": "Python 3",
   "language": "python",
   "name": "python3"
  },
  "language_info": {
   "codemirror_mode": {
    "name": "ipython",
    "version": 3
   },
   "file_extension": ".py",
   "mimetype": "text/x-python",
   "name": "python",
   "nbconvert_exporter": "python",
   "pygments_lexer": "ipython3",
   "version": "3.7.4"
  }
 },
 "nbformat": 4,
 "nbformat_minor": 4
}
